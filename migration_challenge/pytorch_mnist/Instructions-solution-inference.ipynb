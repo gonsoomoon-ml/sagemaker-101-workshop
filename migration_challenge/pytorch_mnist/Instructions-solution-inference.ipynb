{
 "cells": [
  {
   "cell_type": "markdown",
   "metadata": {},
   "source": [
    "# SageMaker 로 MNIST 모델 추론\n",
    "\n",
    "### 실험 환경\n",
    "- [SageMaker Notebook Instance](https://docs.aws.amazon.com/sagemaker/latest/dg/nbi.html) 의 pytorch_p310 커널에서 테스트 되었습니다.\n",
    "#### 참고 문서\n",
    "- [[Module 2.1] 인퍼런스 스크래치](https://github.com/aws-samples/aws-ai-ml-workshop-kr/blob/master/sagemaker/recommendation/Neural-Collaborative-Filtering-On-SageMaker/2_Inference/2.1.NCF-Inference-Scratch.ipynb)"
   ]
  },
  {
   "cell_type": "markdown",
   "metadata": {},
   "source": [
    "## 1. 환경 설정"
   ]
  },
  {
   "cell_type": "code",
   "execution_count": 1,
   "metadata": {},
   "outputs": [],
   "source": [
    "%load_ext autoreload\n",
    "%autoreload 2"
   ]
  },
  {
   "cell_type": "markdown",
   "metadata": {},
   "source": [
    "### 이전 훈련 노트북에서 모델 저장 경로 가져오기"
   ]
  },
  {
   "cell_type": "code",
   "execution_count": 2,
   "metadata": {},
   "outputs": [
    {
     "name": "stdout",
     "output_type": "stream",
     "text": [
      "model_s3_path: \n",
      " s3://sagemaker-us-east-1-057716757052/sagemaker-101-pytorch-2024-06-23-02-17--2024-06-23-02-17-36-523/output/model.tar.gz\n"
     ]
    }
   ],
   "source": [
    "%store -r model_s3_path\n",
    "\n",
    "print(\"model_s3_path: \\n\", model_s3_path)"
   ]
  },
  {
   "cell_type": "code",
   "execution_count": 3,
   "metadata": {},
   "outputs": [],
   "source": [
    "import glob\n",
    "import os\n",
    "\n",
    "# External Dependencies:\n",
    "import matplotlib.pyplot as plt\n",
    "import numpy as np\n",
    "\n",
    "# Local Notebook Utils:\n",
    "# import util"
   ]
  },
  {
   "cell_type": "markdown",
   "metadata": {},
   "source": [
    "## 2. 로컬 추론 테스트"
   ]
  },
  {
   "cell_type": "markdown",
   "metadata": {},
   "source": [
    "### 훈련 아티펙트 다운로드"
   ]
  },
  {
   "cell_type": "code",
   "execution_count": 4,
   "metadata": {},
   "outputs": [],
   "source": [
    "local_model_dir = 'local_model'\n",
    "os.makedirs(local_model_dir, exist_ok=True)"
   ]
  },
  {
   "cell_type": "code",
   "execution_count": 5,
   "metadata": {},
   "outputs": [
    {
     "name": "stdout",
     "output_type": "stream",
     "text": [
      "download: s3://sagemaker-us-east-1-057716757052/sagemaker-101-pytorch-2024-06-23-02-17--2024-06-23-02-17-36-523/output/model.tar.gz to local_model/model.tar.gz\n"
     ]
    },
    {
     "name": "stderr",
     "output_type": "stream",
     "text": [
      "tar: Ignoring unknown extended header keyword `LIBARCHIVE.creationtime'\n"
     ]
    },
    {
     "name": "stdout",
     "output_type": "stream",
     "text": [
      "model.pth\n"
     ]
    }
   ],
   "source": [
    "%%sh -s {model_s3_path} {local_model_dir}\n",
    "\n",
    "model_s3_path=$1\n",
    "local_model_dir=$2\n",
    "# 모델을 S3에서 로컬로 다운로드\n",
    "aws s3 cp $model_s3_path $local_model_dir\n",
    "\n",
    "# 모델 다운로드 폴더로 이동\n",
    "cd $local_model_dir\n",
    "\n",
    "# 압축 해제\n",
    "tar -xvf model.tar.gz"
   ]
  },
  {
   "cell_type": "markdown",
   "metadata": {},
   "source": [
    "## 3.추론 함수 정의"
   ]
  },
  {
   "cell_type": "markdown",
   "metadata": {},
   "source": [
    "### 모델 로딩 함수"
   ]
  },
  {
   "cell_type": "code",
   "execution_count": 6,
   "metadata": {},
   "outputs": [
    {
     "name": "stdout",
     "output_type": "stream",
     "text": [
      "device:  cuda\n"
     ]
    }
   ],
   "source": [
    "import torch \n",
    "device = torch.device(\"cuda\" if torch.cuda.is_available() else \"cpu\")\n",
    "print(\"device: \", device)\n",
    "\n",
    "local_model_dir = 'local_model'"
   ]
  },
  {
   "cell_type": "code",
   "execution_count": 7,
   "metadata": {},
   "outputs": [
    {
     "name": "stdout",
     "output_type": "stream",
     "text": [
      "## Model is successfully loaded\n"
     ]
    }
   ],
   "source": [
    "import os\n",
    "\n",
    "def model_fn(model_dir):\n",
    "    '''\n",
    "    Load a model\n",
    "    '''\n",
    "    device = torch.device(\"cuda\" if torch.cuda.is_available() else \"cpu\")\n",
    "    model = torch.jit.load(os.path.join(model_dir, 'model.pth'))\n",
    "    model = model.to(device)\n",
    "    print(\"## Model is successfully loaded\")\n",
    "    model.eval()\n",
    "    \n",
    "    return model\n",
    "\n",
    "model = model_fn(local_model_dir)"
   ]
  },
  {
   "cell_type": "markdown",
   "metadata": {},
   "source": [
    "### payload 생성 함수"
   ]
  },
  {
   "cell_type": "code",
   "execution_count": 8,
   "metadata": {},
   "outputs": [],
   "source": [
    "import json \n",
    "from PIL import Image\n",
    "\n",
    "def create_payload(label, testing_dir):\n",
    "    filename = os.listdir(f\"{testing_dir}/{label}\")[0]\n",
    "    print(\"filename: \", filename)\n",
    "\n",
    "    # Load the image:\n",
    "    img = Image.open(f\"{testing_dir}/{label}/{filename}\")\n",
    "    # normalize\n",
    "    input_data = np.asarray(img).astype(np.float32)\n",
    "    # input_data = np.expand_dims(input_data, [0, 1])  # Add batch & leading channel dim\n",
    "    input_data = input_data.flatten().tolist()\n",
    "    print(\"input_data: \", np.shape(input_data))\n",
    "\n",
    "    payload = {\n",
    "        'input': input_data, # input_data\n",
    "        'resolution' : [28, 28]\n",
    "    }\n",
    "\n",
    "    return json.dumps(payload)\n"
   ]
  },
  {
   "cell_type": "code",
   "execution_count": 9,
   "metadata": {},
   "outputs": [
    {
     "name": "stdout",
     "output_type": "stream",
     "text": [
      "filename:  995.png\n",
      "input_data:  (784,)\n",
      "payload: \n",
      " {\"input\": [0.0, 0.0, 0.0, 0.0, 0.0, 0.0, 0.0, 0.0, 0.0, 0.0, 0.0, 0.0, 0.0, 0.0, 0.0, 0.0, 0.0, 0.0, 0.0, 0.0, 0.0, 0.0, 0.0, 0.0, 0.0, 0.0, 0.0, 0.0, 0.0, 0.0, 0.0, 0.0, 0.0, 0.0, 0.0, 0.0, 0.0, 0.0, 0.0, 0.0, 0.0, 0.0, 0.0, 0.0, 0.0, 0.0, 0.0, 0.0, 0.0, 0.0, 0.0, 0.0, 0.0, 0.0, 0.0, 0.0, 0.0, 0.0, 0.0, 0.0, 0.0, 0.0, 0.0, 0.0, 0.0, 0.0, 0.0, 0.0, 0.0, 0.0, 0.0, 0.0, 0.0, 0.0, 0.0, 0.0, 0.0, 0.0, 0.0, 0.0, 0.0, 0.0, 0.0, 0.0, 0.0, 0.0, 0.0, 0.0, 0.0, 0.0, 0.0, 0.0, 0.0, 0.0, 0.0, 63.0, 255.0, 253.0, 232.0, 109.0, 0.0, 0.0, 0.0, 0.0, 0.0, 0.0, 0.0, 0.0, 0.0, 0.0, 0.0, 0.0, 0.0, 0.0, 0.0, 0.0, 0.0, 0.0, 0.0, 0.0, 0.0, 0.0, 0.0, 144.0, 253.0, 252.0, 252.0, 252.0, 156.0, 10.0, 0.0, 0.0, 0.0, 0.0, 0.0, 0.0, 0.0, 0.0, 0.0, 0.0, 0.0, 0.0, 0.0, 0.0, 0.0, 0.0, 0.0, 0.0, 0.0, 0.0, 6.0, 160.0, 253.0, 252.0, 252.0, 252.0, 253.0, 190.0, 51.0, 0.0, 0.0, 0.0, 0.0, 0.0, 0.0, 0.0, 0.0, 0.0, 0.0, 0.0, 0.0, 0.0, 0.0, 0.0, 0.0, 0.0, 0.0, 0.0, 37.0, 252.0, 253.0, 252.0, 252.0, 252.0, 253.0, 252.0, 154.0, 1.0, 0.0, 0.0, 0.0, 0.0, 0.0, 0.0, 0.0, 0.0, 0.0, 0.0, 0.0, 0.0, 0.0, 0.0, 0.0, 0.0, 0.0, 0.0, 37.0, 252.0, 253.0, 35.0, 21.0, 205.0, 253.0, 252.0, 252.0, 252.0, 0.0, 0.0, 0.0, 0.0, 0.0, 0.0, 0.0, 0.0, 0.0, 0.0, 0.0, 0.0, 0.0, 0.0, 0.0, 0.0, 0.0, 0.0, 37.0, 252.0, 253.0, 35.0, 0.0, 104.0, 211.0, 252.0, 252.0, 252.0, 156.0, 10.0, 0.0, 0.0, 0.0, 0.0, 0.0, 0.0, 0.0, 0.0, 0.0, 0.0, 0.0, 0.0, 0.0, 0.0, 0.0, 0.0, 11.0, 154.0, 72.0, 10.0, 0.0, 0.0, 31.0, 206.0, 252.0, 252.0, 253.0, 138.0, 0.0, 0.0, 0.0, 0.0, 0.0, 0.0, 0.0, 0.0, 0.0, 0.0, 0.0, 0.0, 0.0, 0.0, 0.0, 0.0, 0.0, 0.0, 0.0, 0.0, 0.0, 0.0, 0.0, 31.0, 211.0, 252.0, 253.0, 179.0, 0.0, 0.0, 0.0, 0.0, 0.0, 0.0, 0.0, 0.0, 0.0, 0.0, 0.0, 0.0, 0.0, 0.0, 0.0, 0.0, 0.0, 0.0, 0.0, 0.0, 0.0, 0.0, 0.0, 0.0, 120.0, 253.0, 255.0, 211.0, 31.0, 0.0, 0.0, 0.0, 0.0, 0.0, 0.0, 0.0, 0.0, 0.0, 0.0, 0.0, 0.0, 0.0, 0.0, 0.0, 0.0, 0.0, 0.0, 0.0, 0.0, 0.0, 0.0, 0.0, 37.0, 252.0, 253.0, 252.0, 71.0, 0.0, 0.0, 0.0, 0.0, 0.0, 0.0, 0.0, 0.0, 0.0, 0.0, 0.0, 0.0, 0.0, 0.0, 0.0, 0.0, 0.0, 0.0, 0.0, 0.0, 0.0, 0.0, 0.0, 37.0, 252.0, 253.0, 241.0, 61.0, 0.0, 0.0, 0.0, 0.0, 0.0, 0.0, 0.0, 0.0, 0.0, 0.0, 42.0, 62.0, 144.0, 0.0, 0.0, 0.0, 0.0, 0.0, 0.0, 0.0, 0.0, 0.0, 0.0, 120.0, 252.0, 253.0, 179.0, 0.0, 0.0, 0.0, 0.0, 0.0, 0.0, 0.0, 0.0, 0.0, 0.0, 0.0, 218.0, 253.0, 253.0, 191.0, 78.0, 0.0, 0.0, 0.0, 0.0, 0.0, 0.0, 0.0, 32.0, 212.0, 253.0, 255.0, 180.0, 0.0, 0.0, 0.0, 0.0, 0.0, 0.0, 0.0, 0.0, 0.0, 0.0, 94.0, 247.0, 252.0, 252.0, 252.0, 242.0, 217.0, 134.0, 0.0, 0.0, 0.0, 0.0, 32.0, 207.0, 252.0, 252.0, 253.0, 200.0, 63.0, 0.0, 0.0, 0.0, 0.0, 0.0, 0.0, 0.0, 0.0, 0.0, 109.0, 252.0, 252.0, 252.0, 252.0, 252.0, 252.0, 252.0, 182.0, 181.0, 78.0, 37.0, 212.0, 252.0, 252.0, 252.0, 253.0, 252.0, 221.0, 16.0, 0.0, 0.0, 0.0, 0.0, 0.0, 0.0, 0.0, 0.0, 109.0, 252.0, 252.0, 252.0, 169.0, 252.0, 252.0, 252.0, 253.0, 252.0, 252.0, 252.0, 253.0, 252.0, 252.0, 252.0, 253.0, 252.0, 231.0, 46.0, 0.0, 0.0, 0.0, 0.0, 0.0, 0.0, 0.0, 0.0, 110.0, 253.0, 253.0, 253.0, 109.0, 150.0, 253.0, 253.0, 255.0, 253.0, 253.0, 253.0, 255.0, 253.0, 253.0, 253.0, 255.0, 253.0, 154.0, 0.0, 0.0, 0.0, 0.0, 0.0, 0.0, 0.0, 0.0, 0.0, 78.0, 242.0, 252.0, 252.0, 252.0, 252.0, 252.0, 252.0, 253.0, 252.0, 252.0, 252.0, 253.0, 252.0, 252.0, 252.0, 180.0, 138.0, 10.0, 0.0, 0.0, 0.0, 0.0, 0.0, 0.0, 0.0, 0.0, 0.0, 0.0, 62.0, 201.0, 252.0, 252.0, 252.0, 252.0, 252.0, 253.0, 220.0, 195.0, 71.0, 72.0, 71.0, 71.0, 71.0, 0.0, 0.0, 0.0, 0.0, 0.0, 0.0, 0.0, 0.0, 0.0, 0.0, 0.0, 0.0, 0.0, 0.0, 78.0, 108.0, 252.0, 210.0, 108.0, 108.0, 108.0, 15.0, 0.0, 0.0, 0.0, 0.0, 0.0, 0.0, 0.0, 0.0, 0.0, 0.0, 0.0, 0.0, 0.0, 0.0, 0.0, 0.0, 0.0, 0.0, 0.0, 0.0, 0.0, 0.0, 0.0, 0.0, 0.0, 0.0, 0.0, 0.0, 0.0, 0.0, 0.0, 0.0, 0.0, 0.0, 0.0, 0.0, 0.0, 0.0, 0.0, 0.0, 0.0, 0.0, 0.0, 0.0, 0.0, 0.0, 0.0, 0.0, 0.0, 0.0, 0.0, 0.0, 0.0, 0.0, 0.0, 0.0, 0.0, 0.0, 0.0, 0.0, 0.0, 0.0, 0.0, 0.0, 0.0, 0.0, 0.0, 0.0, 0.0, 0.0, 0.0, 0.0, 0.0, 0.0, 0.0, 0.0, 0.0, 0.0, 0.0, 0.0, 0.0, 0.0, 0.0, 0.0, 0.0, 0.0, 0.0, 0.0, 0.0, 0.0, 0.0, 0.0, 0.0, 0.0, 0.0, 0.0, 0.0, 0.0, 0.0, 0.0, 0.0, 0.0, 0.0, 0.0, 0.0, 0.0, 0.0, 0.0, 0.0, 0.0, 0.0, 0.0, 0.0, 0.0, 0.0, 0.0, 0.0, 0.0, 0.0, 0.0, 0.0, 0.0, 0.0, 0.0, 0.0, 0.0, 0.0, 0.0, 0.0, 0.0, 0.0, 0.0, 0.0, 0.0, 0.0, 0.0, 0.0, 0.0, 0.0, 0.0, 0.0, 0.0, 0.0, 0.0, 0.0, 0.0, 0.0, 0.0, 0.0, 0.0, 0.0, 0.0, 0.0, 0.0], \"resolution\": [28, 28]}\n"
     ]
    }
   ],
   "source": [
    "local_dir = \"/tmp/mnist\"\n",
    "testing_dir = f\"{local_dir}/testing\"\n",
    "payload = create_payload(label=2, testing_dir=testing_dir)\n",
    "print(\"payload: \\n\", payload)\n"
   ]
  },
  {
   "cell_type": "markdown",
   "metadata": {},
   "source": [
    "### input_fn 준비"
   ]
  },
  {
   "cell_type": "code",
   "execution_count": 10,
   "metadata": {},
   "outputs": [
    {
     "name": "stdout",
     "output_type": "stream",
     "text": [
      "###############################\n",
      "## Starting Input_fn\n",
      "###############################\n",
      "## content_type:  application/json\n",
      "## data: \n",
      " [0.0, 0.0, 0.0, 0.0, 0.0, 0.0, 0.0, 0.0, 0.0, 0.0, 0.0, 0.0, 0.0, 0.0, 0.0, 0.0, 0.0, 0.0, 0.0, 0.0, 0.0, 0.0, 0.0, 0.0, 0.0, 0.0, 0.0, 0.0, 0.0, 0.0, 0.0, 0.0, 0.0, 0.0, 0.0, 0.0, 0.0, 0.0, 0.0, 0.0, 0.0, 0.0, 0.0, 0.0, 0.0, 0.0, 0.0, 0.0, 0.0, 0.0, 0.0, 0.0, 0.0, 0.0, 0.0, 0.0, 0.0, 0.0, 0.0, 0.0, 0.0, 0.0, 0.0, 0.0, 0.0, 0.0, 0.0, 0.0, 0.0, 0.0, 0.0, 0.0, 0.0, 0.0, 0.0, 0.0, 0.0, 0.0, 0.0, 0.0, 0.0, 0.0, 0.0, 0.0, 0.0, 0.0, 0.0, 0.0, 0.0, 0.0, 0.0, 0.0, 0.0, 0.0, 0.0, 63.0, 255.0, 253.0, 232.0, 109.0, 0.0, 0.0, 0.0, 0.0, 0.0, 0.0, 0.0, 0.0, 0.0, 0.0, 0.0, 0.0, 0.0, 0.0, 0.0, 0.0, 0.0, 0.0, 0.0, 0.0, 0.0, 0.0, 0.0, 144.0, 253.0, 252.0, 252.0, 252.0, 156.0, 10.0, 0.0, 0.0, 0.0, 0.0, 0.0, 0.0, 0.0, 0.0, 0.0, 0.0, 0.0, 0.0, 0.0, 0.0, 0.0, 0.0, 0.0, 0.0, 0.0, 0.0, 6.0, 160.0, 253.0, 252.0, 252.0, 252.0, 253.0, 190.0, 51.0, 0.0, 0.0, 0.0, 0.0, 0.0, 0.0, 0.0, 0.0, 0.0, 0.0, 0.0, 0.0, 0.0, 0.0, 0.0, 0.0, 0.0, 0.0, 0.0, 37.0, 252.0, 253.0, 252.0, 252.0, 252.0, 253.0, 252.0, 154.0, 1.0, 0.0, 0.0, 0.0, 0.0, 0.0, 0.0, 0.0, 0.0, 0.0, 0.0, 0.0, 0.0, 0.0, 0.0, 0.0, 0.0, 0.0, 0.0, 37.0, 252.0, 253.0, 35.0, 21.0, 205.0, 253.0, 252.0, 252.0, 252.0, 0.0, 0.0, 0.0, 0.0, 0.0, 0.0, 0.0, 0.0, 0.0, 0.0, 0.0, 0.0, 0.0, 0.0, 0.0, 0.0, 0.0, 0.0, 37.0, 252.0, 253.0, 35.0, 0.0, 104.0, 211.0, 252.0, 252.0, 252.0, 156.0, 10.0, 0.0, 0.0, 0.0, 0.0, 0.0, 0.0, 0.0, 0.0, 0.0, 0.0, 0.0, 0.0, 0.0, 0.0, 0.0, 0.0, 11.0, 154.0, 72.0, 10.0, 0.0, 0.0, 31.0, 206.0, 252.0, 252.0, 253.0, 138.0, 0.0, 0.0, 0.0, 0.0, 0.0, 0.0, 0.0, 0.0, 0.0, 0.0, 0.0, 0.0, 0.0, 0.0, 0.0, 0.0, 0.0, 0.0, 0.0, 0.0, 0.0, 0.0, 0.0, 31.0, 211.0, 252.0, 253.0, 179.0, 0.0, 0.0, 0.0, 0.0, 0.0, 0.0, 0.0, 0.0, 0.0, 0.0, 0.0, 0.0, 0.0, 0.0, 0.0, 0.0, 0.0, 0.0, 0.0, 0.0, 0.0, 0.0, 0.0, 0.0, 120.0, 253.0, 255.0, 211.0, 31.0, 0.0, 0.0, 0.0, 0.0, 0.0, 0.0, 0.0, 0.0, 0.0, 0.0, 0.0, 0.0, 0.0, 0.0, 0.0, 0.0, 0.0, 0.0, 0.0, 0.0, 0.0, 0.0, 0.0, 37.0, 252.0, 253.0, 252.0, 71.0, 0.0, 0.0, 0.0, 0.0, 0.0, 0.0, 0.0, 0.0, 0.0, 0.0, 0.0, 0.0, 0.0, 0.0, 0.0, 0.0, 0.0, 0.0, 0.0, 0.0, 0.0, 0.0, 0.0, 37.0, 252.0, 253.0, 241.0, 61.0, 0.0, 0.0, 0.0, 0.0, 0.0, 0.0, 0.0, 0.0, 0.0, 0.0, 42.0, 62.0, 144.0, 0.0, 0.0, 0.0, 0.0, 0.0, 0.0, 0.0, 0.0, 0.0, 0.0, 120.0, 252.0, 253.0, 179.0, 0.0, 0.0, 0.0, 0.0, 0.0, 0.0, 0.0, 0.0, 0.0, 0.0, 0.0, 218.0, 253.0, 253.0, 191.0, 78.0, 0.0, 0.0, 0.0, 0.0, 0.0, 0.0, 0.0, 32.0, 212.0, 253.0, 255.0, 180.0, 0.0, 0.0, 0.0, 0.0, 0.0, 0.0, 0.0, 0.0, 0.0, 0.0, 94.0, 247.0, 252.0, 252.0, 252.0, 242.0, 217.0, 134.0, 0.0, 0.0, 0.0, 0.0, 32.0, 207.0, 252.0, 252.0, 253.0, 200.0, 63.0, 0.0, 0.0, 0.0, 0.0, 0.0, 0.0, 0.0, 0.0, 0.0, 109.0, 252.0, 252.0, 252.0, 252.0, 252.0, 252.0, 252.0, 182.0, 181.0, 78.0, 37.0, 212.0, 252.0, 252.0, 252.0, 253.0, 252.0, 221.0, 16.0, 0.0, 0.0, 0.0, 0.0, 0.0, 0.0, 0.0, 0.0, 109.0, 252.0, 252.0, 252.0, 169.0, 252.0, 252.0, 252.0, 253.0, 252.0, 252.0, 252.0, 253.0, 252.0, 252.0, 252.0, 253.0, 252.0, 231.0, 46.0, 0.0, 0.0, 0.0, 0.0, 0.0, 0.0, 0.0, 0.0, 110.0, 253.0, 253.0, 253.0, 109.0, 150.0, 253.0, 253.0, 255.0, 253.0, 253.0, 253.0, 255.0, 253.0, 253.0, 253.0, 255.0, 253.0, 154.0, 0.0, 0.0, 0.0, 0.0, 0.0, 0.0, 0.0, 0.0, 0.0, 78.0, 242.0, 252.0, 252.0, 252.0, 252.0, 252.0, 252.0, 253.0, 252.0, 252.0, 252.0, 253.0, 252.0, 252.0, 252.0, 180.0, 138.0, 10.0, 0.0, 0.0, 0.0, 0.0, 0.0, 0.0, 0.0, 0.0, 0.0, 0.0, 62.0, 201.0, 252.0, 252.0, 252.0, 252.0, 252.0, 253.0, 220.0, 195.0, 71.0, 72.0, 71.0, 71.0, 71.0, 0.0, 0.0, 0.0, 0.0, 0.0, 0.0, 0.0, 0.0, 0.0, 0.0, 0.0, 0.0, 0.0, 0.0, 78.0, 108.0, 252.0, 210.0, 108.0, 108.0, 108.0, 15.0, 0.0, 0.0, 0.0, 0.0, 0.0, 0.0, 0.0, 0.0, 0.0, 0.0, 0.0, 0.0, 0.0, 0.0, 0.0, 0.0, 0.0, 0.0, 0.0, 0.0, 0.0, 0.0, 0.0, 0.0, 0.0, 0.0, 0.0, 0.0, 0.0, 0.0, 0.0, 0.0, 0.0, 0.0, 0.0, 0.0, 0.0, 0.0, 0.0, 0.0, 0.0, 0.0, 0.0, 0.0, 0.0, 0.0, 0.0, 0.0, 0.0, 0.0, 0.0, 0.0, 0.0, 0.0, 0.0, 0.0, 0.0, 0.0, 0.0, 0.0, 0.0, 0.0, 0.0, 0.0, 0.0, 0.0, 0.0, 0.0, 0.0, 0.0, 0.0, 0.0, 0.0, 0.0, 0.0, 0.0, 0.0, 0.0, 0.0, 0.0, 0.0, 0.0, 0.0, 0.0, 0.0, 0.0, 0.0, 0.0, 0.0, 0.0, 0.0, 0.0, 0.0, 0.0, 0.0, 0.0, 0.0, 0.0, 0.0, 0.0, 0.0, 0.0, 0.0, 0.0, 0.0, 0.0, 0.0, 0.0, 0.0, 0.0, 0.0, 0.0, 0.0, 0.0, 0.0, 0.0, 0.0, 0.0, 0.0, 0.0, 0.0, 0.0, 0.0, 0.0, 0.0, 0.0, 0.0, 0.0, 0.0, 0.0, 0.0, 0.0, 0.0, 0.0, 0.0, 0.0, 0.0, 0.0, 0.0, 0.0, 0.0, 0.0, 0.0, 0.0, 0.0, 0.0, 0.0, 0.0, 0.0, 0.0, 0.0, 0.0, 0.0, 0.0]\n",
      "## np.shape:  torch.Size([1, 1, 28, 28])\n"
     ]
    }
   ],
   "source": [
    "import os\n",
    "import json\n",
    "import io\n",
    "\n",
    "def input_fn(input_data, content_type):\n",
    "    print(\"###############################\")    \n",
    "    print(\"## Starting Input_fn\")\n",
    "    print(\"###############################\")   \n",
    "\n",
    "    try: \n",
    "        if content_type == 'application/json':\n",
    "            print(\"## content_type: \", content_type)\n",
    "            # image data in the form of list type ( size: 784 = 28 * 28 )\n",
    "\n",
    "            if isinstance(input_data, str):\n",
    "                pass\n",
    "            elif isinstance(input_data, io.BytesIO):\n",
    "                print(\"## io.BytesIO\")\n",
    "                input_data = input_data.read()\n",
    "                input_data = bytes.decode(input_data)        \n",
    "            elif isinstance(input_data, bytes):\n",
    "                print(\"## bytes:\")                \n",
    "                input_data = input_data.decode()\n",
    "            else:\n",
    "                raise ValueError(f\"Unsupported data type: {type(input_data)}\")        \n",
    "\n",
    "            # print(\"## before json loads \")\n",
    "            # print(\"## data type : \\n\", type(data))\n",
    "            data = json.loads(input_data)[\"input\"]\n",
    "            # print(\"## after json loads : \\n\", data)\n",
    "            # Get resolution ( [28, 28])\n",
    "            resolution = json.loads(input_data)[\"resolution\"]\n",
    "            # print(\"## data: \\n\", data)\n",
    "            \n",
    "            # convert one dimenstion to two dimentions: 784 --> (28, 28)\n",
    "            data = np.array(data).reshape(resolution)\n",
    "            # normalize\n",
    "            data = np.squeeze(data).astype(np.float32) / 255\n",
    "            # (28, 28 ) --> (1, 1, 28, 28)\n",
    "            data = torch.tensor(data).unsqueeze(0).unsqueeze(0)    \n",
    "            print(\"## np.shape: \", np.shape(data))\n",
    "        else:\n",
    "            print(\"################################\")\n",
    "            raise ValueError(f\"Unsupported content type: {content_type}\")        \n",
    "            print(\"################################\")\n",
    "    except Exception:\n",
    "        print(traceback.format_exc())        \n",
    "\n",
    "\n",
    "    return data\n",
    "\n",
    "def input_fn(input_data, content_type):\n",
    "    print(\"###############################\")    \n",
    "    print(\"## Starting Input_fn\")\n",
    "    print(\"###############################\")   \n",
    "\n",
    "    try: \n",
    "        if content_type == 'application/json':\n",
    "            print(\"## content_type: \", content_type)\n",
    "            # image data in the form of list type ( size: 784 = 28 * 28 )\n",
    "\n",
    "            if isinstance(input_data, str):\n",
    "                pass\n",
    "            elif isinstance(input_data, io.BytesIO):\n",
    "                input_data = input_data.read()\n",
    "                input_data = bytes.decode(input_data)        \n",
    "            elif isinstance(input_data, bytes):\n",
    "                input_data = input_data.decode()\n",
    "\n",
    "            data = json.loads(input_data)[\"input\"]\n",
    "            # Get resolution ( [28, 28])\n",
    "            resolution = json.loads(input_data)[\"resolution\"]\n",
    "            print(\"## data: \\n\", data)\n",
    "            \n",
    "            # convert one dimenstion to two dimentions: 784 --> (28, 28)\n",
    "            data = np.array(data).reshape(resolution)\n",
    "            # normalize\n",
    "            data = np.squeeze(data).astype(np.float32) / 255\n",
    "            # (28, 28 ) --> (1, 1, 28, 28)\n",
    "            data = torch.tensor(data).unsqueeze(0).unsqueeze(0)    \n",
    "            print(\"## np.shape: \", np.shape(data))\n",
    "        else:\n",
    "            print(\"################################\")\n",
    "            raise ValueError(f\"Unsupported content type: {content_type}\")        \n",
    "            print(\"################################\")\n",
    "    except Exception:\n",
    "        print(traceback.format_exc())  \n",
    "\n",
    "    return data    \n",
    "\n",
    "\n",
    "\n",
    "\n",
    "input_data = input_fn(input_data=payload, content_type='application/json')\n",
    "\n"
   ]
  },
  {
   "cell_type": "markdown",
   "metadata": {},
   "source": [
    "### predict_fn 준비"
   ]
  },
  {
   "cell_type": "code",
   "execution_count": 11,
   "metadata": {},
   "outputs": [
    {
     "name": "stdout",
     "output_type": "stream",
     "text": [
      "shape:  torch.Size([1, 1, 28, 28])\n",
      "## Result confidences: tensor([[1.1233e-05, 6.4257e-10, 9.9999e-01, 9.8468e-08, 2.1759e-11, 1.7181e-12,\n",
      "         9.0501e-11, 1.1180e-08, 7.9277e-10, 6.0489e-11]], device='cuda:0')\n"
     ]
    }
   ],
   "source": [
    "def predict_fn(input_data, model):\n",
    "    '''\n",
    "    모델의 추론 함수\n",
    "    '''\n",
    "    device = torch.device(\"cuda\" if torch.cuda.is_available() else \"cpu\")\n",
    "    input_data = input_data.to(device)\n",
    "    # values = input_data.squeeze().tolist()\n",
    "    # print(\"input sum: \", np.sum(values))\n",
    "    print(\"shape: \", np.shape(input_data))\n",
    "    \n",
    "    with torch.no_grad():\n",
    "        result = model(input_data)\n",
    "    print(f\"## Result confidences: {result}\")\n",
    "\n",
    "    return result\n",
    "\n",
    "result = predict_fn(input_data=input_data, model=model)\n"
   ]
  },
  {
   "cell_type": "markdown",
   "metadata": {},
   "source": [
    "### Output_fn 준비"
   ]
  },
  {
   "cell_type": "code",
   "execution_count": 12,
   "metadata": {},
   "outputs": [],
   "source": [
    "def output_fn(prediction, content_type):\n",
    "\n",
    "    if content_type == 'application/json':\n",
    "        # convert tensor type to list type\n",
    "        values = prediction.squeeze().tolist()\n",
    "\n",
    "    return json.dumps(values)"
   ]
  },
  {
   "cell_type": "code",
   "execution_count": 13,
   "metadata": {},
   "outputs": [
    {
     "name": "stdout",
     "output_type": "stream",
     "text": [
      "output:  [1.1233007171540521e-05, 6.42566944097922e-10, 0.9999886751174927, 9.846751680697707e-08, 2.1758643498070995e-11, 1.718074575836337e-12, 9.050087068640522e-11, 1.1180278924882714e-08, 7.927744571922801e-10, 6.048894024557327e-11]\n",
      "## Max confidence index: 2\n"
     ]
    }
   ],
   "source": [
    "output = output_fn(prediction=result, content_type='application/json')\n",
    "output = json.loads(output)\n",
    "print(\"output: \", output)\n",
    "\n",
    "\n",
    "max_index = np.argmax(output)\n",
    "print(\"## Max confidence index:\", max_index)"
   ]
  },
  {
   "cell_type": "markdown",
   "metadata": {},
   "source": [
    "### 전체 로컬 추론 테스트"
   ]
  },
  {
   "cell_type": "code",
   "execution_count": 14,
   "metadata": {},
   "outputs": [],
   "source": [
    "from PIL import Image\n",
    "\n",
    "def predict_mnist(label, local_model_dir, testing_dir ):\n",
    "\n",
    "    # Handle input\n",
    "    # Load the image:\n",
    "    filename = os.listdir(f\"{testing_dir}/{label}\")[0]\n",
    "    print(\"previous filename: \", filename)\n",
    "    img = Image.open(f\"{testing_dir}/{label}/{filename}\")\n",
    "\n",
    "    # load model\n",
    "    model = model_fn(local_model_dir)\n",
    "\n",
    "    # load input_data\n",
    "    payload = create_payload(label=label, testing_dir=testing_dir)\n",
    "    # print(\"## label: \", label)\n",
    "    # print(\"## payload: \\n\", payload)    \n",
    "    input_data = input_fn(input_data=payload, content_type='application/json')\n",
    "\n",
    "    # print(\"## input_data shape: \", np.shape(input_data))\n",
    "\n",
    "    # predict label\n",
    "    result = predict_fn(input_data=input_data, model=model)\n",
    "\n",
    "    # output \n",
    "    output = output_fn(prediction=result, content_type='application/json')\n",
    "    output = json.loads(output)    \n",
    "    # print(\"## output: \", output)\n",
    "\n",
    "    max_index = np.argmax(output)\n",
    "    print(\"## Max confidence index:\", max_index)    \n",
    "    \n",
    "    # Plot the result:\n",
    "    plt.figure(figsize=(3, 3))\n",
    "    fig = plt.subplot(1, 1, 1)\n",
    "    ax = plt.imshow(img, cmap=\"gray\")\n",
    "    fig.set_title(f\"Predicted Number {max_index}\")\n",
    "    plt.show()\n"
   ]
  },
  {
   "cell_type": "code",
   "execution_count": 15,
   "metadata": {},
   "outputs": [
    {
     "name": "stdout",
     "output_type": "stream",
     "text": [
      "previous filename:  5479.png\n",
      "## Model is successfully loaded\n",
      "filename:  5479.png\n",
      "input_data:  (784,)\n",
      "###############################\n",
      "## Starting Input_fn\n",
      "###############################\n",
      "## content_type:  application/json\n",
      "## data: \n",
      " [0.0, 0.0, 0.0, 0.0, 0.0, 0.0, 0.0, 0.0, 0.0, 0.0, 0.0, 0.0, 0.0, 0.0, 0.0, 0.0, 0.0, 0.0, 0.0, 0.0, 0.0, 0.0, 0.0, 0.0, 0.0, 0.0, 0.0, 0.0, 0.0, 0.0, 0.0, 0.0, 0.0, 0.0, 0.0, 0.0, 0.0, 0.0, 0.0, 0.0, 0.0, 0.0, 0.0, 0.0, 0.0, 0.0, 0.0, 0.0, 0.0, 0.0, 0.0, 0.0, 0.0, 0.0, 0.0, 0.0, 0.0, 0.0, 0.0, 0.0, 0.0, 0.0, 0.0, 0.0, 0.0, 0.0, 0.0, 0.0, 0.0, 0.0, 0.0, 0.0, 0.0, 0.0, 0.0, 0.0, 0.0, 0.0, 0.0, 0.0, 0.0, 0.0, 0.0, 0.0, 0.0, 0.0, 0.0, 0.0, 0.0, 0.0, 0.0, 0.0, 0.0, 0.0, 0.0, 0.0, 0.0, 0.0, 0.0, 0.0, 0.0, 0.0, 0.0, 0.0, 0.0, 0.0, 0.0, 0.0, 0.0, 0.0, 0.0, 0.0, 0.0, 0.0, 0.0, 0.0, 0.0, 0.0, 0.0, 0.0, 0.0, 0.0, 0.0, 0.0, 84.0, 120.0, 164.0, 254.0, 254.0, 254.0, 157.0, 47.0, 0.0, 0.0, 0.0, 0.0, 0.0, 0.0, 0.0, 0.0, 0.0, 0.0, 0.0, 0.0, 0.0, 0.0, 0.0, 0.0, 0.0, 0.0, 0.0, 117.0, 245.0, 254.0, 254.0, 254.0, 254.0, 254.0, 254.0, 219.0, 0.0, 0.0, 0.0, 0.0, 0.0, 0.0, 0.0, 0.0, 0.0, 0.0, 0.0, 0.0, 0.0, 0.0, 0.0, 0.0, 0.0, 0.0, 0.0, 137.0, 254.0, 254.0, 254.0, 199.0, 175.0, 205.0, 254.0, 248.0, 54.0, 0.0, 0.0, 0.0, 0.0, 0.0, 0.0, 0.0, 0.0, 0.0, 0.0, 0.0, 0.0, 0.0, 0.0, 0.0, 0.0, 0.0, 0.0, 26.0, 192.0, 95.0, 19.0, 6.0, 22.0, 160.0, 254.0, 243.0, 36.0, 0.0, 0.0, 0.0, 0.0, 0.0, 0.0, 0.0, 0.0, 0.0, 0.0, 0.0, 0.0, 0.0, 0.0, 0.0, 0.0, 0.0, 0.0, 0.0, 0.0, 0.0, 0.0, 69.0, 220.0, 254.0, 254.0, 158.0, 0.0, 0.0, 0.0, 0.0, 0.0, 0.0, 0.0, 0.0, 0.0, 0.0, 0.0, 0.0, 0.0, 0.0, 0.0, 0.0, 0.0, 0.0, 0.0, 0.0, 0.0, 82.0, 164.0, 254.0, 254.0, 254.0, 196.0, 15.0, 0.0, 0.0, 0.0, 0.0, 0.0, 0.0, 0.0, 0.0, 0.0, 0.0, 0.0, 0.0, 0.0, 0.0, 0.0, 0.0, 0.0, 0.0, 0.0, 26.0, 155.0, 254.0, 254.0, 254.0, 250.0, 158.0, 15.0, 0.0, 0.0, 0.0, 0.0, 0.0, 0.0, 0.0, 0.0, 0.0, 0.0, 0.0, 0.0, 0.0, 0.0, 0.0, 0.0, 0.0, 0.0, 0.0, 85.0, 218.0, 254.0, 254.0, 254.0, 254.0, 226.0, 49.0, 0.0, 0.0, 0.0, 0.0, 0.0, 0.0, 0.0, 0.0, 0.0, 0.0, 0.0, 0.0, 0.0, 0.0, 0.0, 0.0, 0.0, 0.0, 0.0, 0.0, 176.0, 254.0, 254.0, 254.0, 254.0, 254.0, 254.0, 246.0, 175.0, 92.0, 12.0, 0.0, 0.0, 0.0, 0.0, 0.0, 0.0, 0.0, 0.0, 0.0, 0.0, 0.0, 0.0, 0.0, 0.0, 0.0, 0.0, 0.0, 176.0, 254.0, 254.0, 232.0, 163.0, 185.0, 155.0, 231.0, 254.0, 254.0, 153.0, 0.0, 0.0, 0.0, 0.0, 0.0, 0.0, 0.0, 0.0, 0.0, 0.0, 0.0, 0.0, 0.0, 0.0, 0.0, 0.0, 0.0, 99.0, 143.0, 61.0, 0.0, 0.0, 0.0, 0.0, 0.0, 122.0, 246.0, 224.0, 12.0, 0.0, 0.0, 0.0, 0.0, 0.0, 0.0, 0.0, 0.0, 0.0, 0.0, 0.0, 0.0, 0.0, 0.0, 0.0, 0.0, 0.0, 0.0, 0.0, 0.0, 0.0, 0.0, 0.0, 0.0, 5.0, 218.0, 254.0, 65.0, 0.0, 0.0, 0.0, 0.0, 0.0, 0.0, 0.0, 0.0, 0.0, 0.0, 0.0, 0.0, 0.0, 0.0, 0.0, 0.0, 0.0, 0.0, 0.0, 0.0, 0.0, 0.0, 0.0, 0.0, 59.0, 254.0, 254.0, 49.0, 0.0, 0.0, 0.0, 0.0, 0.0, 0.0, 0.0, 0.0, 0.0, 0.0, 0.0, 0.0, 0.0, 0.0, 0.0, 0.0, 0.0, 0.0, 0.0, 0.0, 0.0, 0.0, 7.0, 78.0, 202.0, 254.0, 241.0, 16.0, 0.0, 0.0, 0.0, 0.0, 0.0, 0.0, 0.0, 0.0, 0.0, 0.0, 0.0, 0.0, 0.0, 0.0, 0.0, 0.0, 0.0, 0.0, 0.0, 0.0, 0.0, 0.0, 152.0, 254.0, 254.0, 246.0, 70.0, 0.0, 0.0, 0.0, 0.0, 0.0, 0.0, 0.0, 0.0, 0.0, 0.0, 0.0, 73.0, 127.0, 5.0, 0.0, 0.0, 0.0, 0.0, 0.0, 0.0, 0.0, 5.0, 157.0, 254.0, 254.0, 242.0, 68.0, 0.0, 0.0, 0.0, 0.0, 0.0, 0.0, 0.0, 0.0, 0.0, 0.0, 0.0, 0.0, 118.0, 254.0, 150.0, 13.0, 0.0, 0.0, 0.0, 0.0, 0.0, 43.0, 203.0, 254.0, 254.0, 208.0, 106.0, 0.0, 0.0, 0.0, 0.0, 0.0, 0.0, 0.0, 0.0, 0.0, 0.0, 0.0, 0.0, 0.0, 44.0, 230.0, 254.0, 224.0, 177.0, 131.0, 79.0, 131.0, 176.0, 254.0, 254.0, 254.0, 166.0, 48.0, 0.0, 0.0, 0.0, 0.0, 0.0, 0.0, 0.0, 0.0, 0.0, 0.0, 0.0, 0.0, 0.0, 0.0, 0.0, 44.0, 228.0, 254.0, 255.0, 254.0, 254.0, 254.0, 254.0, 255.0, 250.0, 117.0, 2.0, 0.0, 0.0, 0.0, 0.0, 0.0, 0.0, 0.0, 0.0, 0.0, 0.0, 0.0, 0.0, 0.0, 0.0, 0.0, 0.0, 0.0, 32.0, 133.0, 179.0, 254.0, 254.0, 254.0, 178.0, 156.0, 69.0, 0.0, 0.0, 0.0, 0.0, 0.0, 0.0, 0.0, 0.0, 0.0, 0.0, 0.0, 0.0, 0.0, 0.0, 0.0, 0.0, 0.0, 0.0, 0.0, 0.0, 0.0, 0.0, 0.0, 0.0, 0.0, 0.0, 0.0, 0.0, 0.0, 0.0, 0.0, 0.0, 0.0, 0.0, 0.0, 0.0, 0.0, 0.0, 0.0, 0.0, 0.0, 0.0, 0.0, 0.0, 0.0, 0.0, 0.0, 0.0, 0.0, 0.0, 0.0, 0.0, 0.0, 0.0, 0.0, 0.0, 0.0, 0.0, 0.0, 0.0, 0.0, 0.0, 0.0, 0.0, 0.0, 0.0, 0.0, 0.0, 0.0, 0.0, 0.0, 0.0, 0.0, 0.0, 0.0, 0.0, 0.0, 0.0, 0.0, 0.0, 0.0, 0.0, 0.0, 0.0, 0.0, 0.0, 0.0, 0.0, 0.0, 0.0, 0.0, 0.0, 0.0, 0.0, 0.0, 0.0, 0.0, 0.0, 0.0, 0.0, 0.0, 0.0, 0.0, 0.0, 0.0, 0.0, 0.0, 0.0, 0.0, 0.0, 0.0, 0.0, 0.0, 0.0, 0.0, 0.0, 0.0, 0.0, 0.0, 0.0, 0.0, 0.0, 0.0, 0.0, 0.0]\n",
      "## np.shape:  torch.Size([1, 1, 28, 28])\n",
      "shape:  torch.Size([1, 1, 28, 28])\n",
      "## Result confidences: tensor([[3.5067e-14, 3.1423e-10, 4.4553e-13, 1.0000e+00, 3.2764e-16, 4.0042e-07,\n",
      "         6.4458e-14, 6.8528e-12, 1.9019e-12, 2.3170e-10]], device='cuda:0')\n",
      "## Max confidence index: 3\n"
     ]
    },
    {
     "data": {
      "image/png": "[encoded data removed]",
      "text/plain": [
       "<Figure size 300x300 with 1 Axes>"
      ]
     },
     "metadata": {},
     "output_type": "display_data"
    }
   ],
   "source": [
    "\n",
    "\n",
    "predict_mnist(label=3, local_model_dir=local_model_dir, testing_dir=testing_dir )    "
   ]
  },
  {
   "cell_type": "code",
   "execution_count": 16,
   "metadata": {},
   "outputs": [
    {
     "name": "stdout",
     "output_type": "stream",
     "text": [
      "previous filename:  3501.png\n",
      "## Model is successfully loaded\n",
      "filename:  3501.png\n",
      "input_data:  (784,)\n",
      "###############################\n",
      "## Starting Input_fn\n",
      "###############################\n",
      "## content_type:  application/json\n",
      "## data: \n",
      " [0.0, 0.0, 0.0, 0.0, 0.0, 0.0, 0.0, 0.0, 0.0, 0.0, 0.0, 0.0, 0.0, 0.0, 0.0, 0.0, 0.0, 0.0, 0.0, 0.0, 0.0, 0.0, 0.0, 0.0, 0.0, 0.0, 0.0, 0.0, 0.0, 0.0, 0.0, 0.0, 0.0, 0.0, 0.0, 0.0, 0.0, 0.0, 0.0, 0.0, 0.0, 0.0, 0.0, 0.0, 0.0, 0.0, 0.0, 0.0, 0.0, 0.0, 0.0, 0.0, 0.0, 0.0, 0.0, 0.0, 0.0, 0.0, 0.0, 0.0, 0.0, 0.0, 0.0, 0.0, 0.0, 0.0, 0.0, 0.0, 0.0, 0.0, 0.0, 0.0, 0.0, 0.0, 0.0, 0.0, 0.0, 0.0, 0.0, 0.0, 0.0, 0.0, 0.0, 0.0, 0.0, 0.0, 0.0, 0.0, 0.0, 0.0, 0.0, 0.0, 0.0, 0.0, 0.0, 0.0, 0.0, 0.0, 0.0, 0.0, 0.0, 0.0, 0.0, 0.0, 0.0, 0.0, 0.0, 0.0, 0.0, 0.0, 0.0, 0.0, 0.0, 0.0, 0.0, 0.0, 0.0, 0.0, 0.0, 0.0, 0.0, 0.0, 0.0, 0.0, 0.0, 0.0, 0.0, 0.0, 0.0, 0.0, 0.0, 0.0, 0.0, 0.0, 0.0, 0.0, 0.0, 0.0, 0.0, 0.0, 0.0, 0.0, 0.0, 0.0, 0.0, 0.0, 0.0, 0.0, 0.0, 0.0, 0.0, 0.0, 0.0, 0.0, 0.0, 0.0, 0.0, 0.0, 0.0, 0.0, 0.0, 0.0, 0.0, 0.0, 0.0, 0.0, 0.0, 0.0, 0.0, 0.0, 0.0, 0.0, 0.0, 0.0, 0.0, 0.0, 0.0, 0.0, 0.0, 0.0, 0.0, 0.0, 0.0, 0.0, 0.0, 0.0, 0.0, 0.0, 0.0, 0.0, 0.0, 0.0, 0.0, 0.0, 0.0, 0.0, 0.0, 0.0, 0.0, 0.0, 0.0, 0.0, 0.0, 0.0, 0.0, 0.0, 0.0, 16.0, 97.0, 168.0, 180.0, 254.0, 255.0, 254.0, 219.0, 74.0, 0.0, 0.0, 0.0, 0.0, 0.0, 0.0, 0.0, 0.0, 0.0, 0.0, 0.0, 0.0, 0.0, 0.0, 0.0, 0.0, 0.0, 0.0, 87.0, 239.0, 254.0, 254.0, 190.0, 176.0, 176.0, 182.0, 254.0, 239.0, 0.0, 0.0, 0.0, 0.0, 0.0, 0.0, 0.0, 0.0, 0.0, 0.0, 0.0, 0.0, 0.0, 0.0, 0.0, 0.0, 0.0, 133.0, 253.0, 174.0, 51.0, 8.0, 2.0, 0.0, 0.0, 22.0, 254.0, 241.0, 0.0, 0.0, 0.0, 0.0, 0.0, 0.0, 0.0, 0.0, 0.0, 0.0, 0.0, 0.0, 0.0, 0.0, 0.0, 40.0, 205.0, 252.0, 175.0, 14.0, 0.0, 0.0, 0.0, 0.0, 0.0, 46.0, 254.0, 241.0, 0.0, 0.0, 0.0, 0.0, 0.0, 0.0, 0.0, 0.0, 0.0, 0.0, 0.0, 0.0, 0.0, 0.0, 64.0, 236.0, 238.0, 122.0, 2.0, 0.0, 0.0, 0.0, 0.0, 8.0, 104.0, 224.0, 254.0, 160.0, 0.0, 0.0, 0.0, 0.0, 0.0, 0.0, 0.0, 0.0, 0.0, 0.0, 0.0, 0.0, 0.0, 43.0, 241.0, 238.0, 60.0, 0.0, 0.0, 0.0, 11.0, 61.0, 142.0, 235.0, 254.0, 254.0, 254.0, 154.0, 0.0, 0.0, 0.0, 0.0, 0.0, 0.0, 0.0, 0.0, 0.0, 0.0, 0.0, 0.0, 0.0, 74.0, 254.0, 159.0, 0.0, 0.0, 0.0, 139.0, 233.0, 254.0, 254.0, 247.0, 159.0, 172.0, 254.0, 107.0, 0.0, 0.0, 0.0, 0.0, 0.0, 0.0, 0.0, 0.0, 0.0, 0.0, 0.0, 0.0, 0.0, 59.0, 251.0, 224.0, 138.0, 157.0, 224.0, 240.0, 202.0, 159.0, 105.0, 26.0, 0.0, 184.0, 244.0, 32.0, 0.0, 0.0, 0.0, 0.0, 0.0, 0.0, 0.0, 0.0, 0.0, 0.0, 0.0, 0.0, 0.0, 0.0, 109.0, 218.0, 242.0, 206.0, 188.0, 39.0, 0.0, 0.0, 0.0, 0.0, 23.0, 246.0, 236.0, 0.0, 0.0, 0.0, 0.0, 0.0, 0.0, 0.0, 0.0, 0.0, 0.0, 0.0, 0.0, 0.0, 0.0, 0.0, 0.0, 10.0, 29.0, 0.0, 0.0, 0.0, 0.0, 0.0, 0.0, 0.0, 26.0, 254.0, 236.0, 0.0, 0.0, 0.0, 0.0, 0.0, 0.0, 0.0, 0.0, 0.0, 0.0, 0.0, 0.0, 0.0, 0.0, 0.0, 0.0, 0.0, 0.0, 0.0, 0.0, 0.0, 0.0, 0.0, 0.0, 0.0, 69.0, 254.0, 164.0, 0.0, 0.0, 0.0, 0.0, 0.0, 0.0, 0.0, 0.0, 0.0, 0.0, 0.0, 0.0, 0.0, 0.0, 0.0, 0.0, 0.0, 0.0, 0.0, 0.0, 0.0, 0.0, 0.0, 0.0, 0.0, 113.0, 251.0, 72.0, 0.0, 0.0, 0.0, 0.0, 0.0, 0.0, 0.0, 0.0, 0.0, 0.0, 0.0, 0.0, 0.0, 0.0, 0.0, 0.0, 0.0, 0.0, 0.0, 0.0, 0.0, 0.0, 0.0, 0.0, 0.0, 152.0, 232.0, 0.0, 0.0, 0.0, 0.0, 0.0, 0.0, 0.0, 0.0, 0.0, 0.0, 0.0, 0.0, 0.0, 0.0, 0.0, 0.0, 0.0, 0.0, 0.0, 0.0, 0.0, 0.0, 0.0, 0.0, 0.0, 24.0, 242.0, 232.0, 0.0, 0.0, 0.0, 0.0, 0.0, 0.0, 0.0, 0.0, 0.0, 0.0, 0.0, 0.0, 0.0, 0.0, 0.0, 0.0, 0.0, 0.0, 0.0, 0.0, 0.0, 0.0, 0.0, 0.0, 0.0, 31.0, 254.0, 195.0, 0.0, 0.0, 0.0, 0.0, 0.0, 0.0, 0.0, 0.0, 0.0, 0.0, 0.0, 0.0, 0.0, 0.0, 0.0, 0.0, 0.0, 0.0, 0.0, 0.0, 0.0, 0.0, 0.0, 0.0, 0.0, 31.0, 254.0, 146.0, 0.0, 0.0, 0.0, 0.0, 0.0, 0.0, 0.0, 0.0, 0.0, 0.0, 0.0, 0.0, 0.0, 0.0, 0.0, 0.0, 0.0, 0.0, 0.0, 0.0, 0.0, 0.0, 0.0, 0.0, 0.0, 31.0, 254.0, 146.0, 0.0, 0.0, 0.0, 0.0, 0.0, 0.0, 0.0, 0.0, 0.0, 0.0, 0.0, 0.0, 0.0, 0.0, 0.0, 0.0, 0.0, 0.0, 0.0, 0.0, 0.0, 0.0, 0.0, 0.0, 0.0, 63.0, 254.0, 85.0, 0.0, 0.0, 0.0, 0.0, 0.0, 0.0, 0.0, 0.0, 0.0, 0.0, 0.0, 0.0, 0.0, 0.0, 0.0, 0.0, 0.0, 0.0, 0.0, 0.0, 0.0, 0.0, 0.0, 0.0, 0.0, 117.0, 254.0, 60.0, 0.0, 0.0, 0.0, 0.0, 0.0, 0.0, 0.0, 0.0, 0.0, 0.0, 0.0, 0.0, 0.0, 0.0, 0.0, 0.0, 0.0, 0.0, 0.0, 0.0, 0.0, 0.0, 0.0, 0.0, 0.0, 117.0, 254.0, 60.0, 0.0, 0.0, 0.0, 0.0, 0.0, 0.0, 0.0, 0.0, 0.0, 0.0, 0.0, 0.0, 0.0, 0.0, 0.0, 0.0, 0.0, 0.0, 0.0, 0.0, 0.0, 0.0, 0.0, 0.0, 0.0, 0.0, 0.0, 0.0, 0.0, 0.0, 0.0, 0.0, 0.0, 0.0, 0.0, 0.0, 0.0, 0.0]\n",
      "## np.shape:  torch.Size([1, 1, 28, 28])\n",
      "shape:  torch.Size([1, 1, 28, 28])\n",
      "## Result confidences: tensor([[8.6908e-12, 1.3907e-11, 3.7165e-10, 1.6102e-08, 2.3171e-08, 2.9803e-10,\n",
      "         6.0593e-16, 2.0275e-05, 7.5478e-09, 9.9998e-01]], device='cuda:0')\n",
      "## Max confidence index: 9\n"
     ]
    },
    {
     "data": {
      "image/png": "[encoded data removed]",
      "text/plain": [
       "<Figure size 300x300 with 1 Axes>"
      ]
     },
     "metadata": {},
     "output_type": "display_data"
    }
   ],
   "source": [
    "predict_mnist(label=9, local_model_dir=local_model_dir, testing_dir=testing_dir )    "
   ]
  },
  {
   "cell_type": "markdown",
   "metadata": {},
   "source": [
    "## 4. Local 에서 SageMaker Endpoint 추론"
   ]
  },
  {
   "cell_type": "code",
   "execution_count": 17,
   "metadata": {},
   "outputs": [
    {
     "name": "stdout",
     "output_type": "stream",
     "text": [
      "local_model_path:  local_model/model.tar.gz\n"
     ]
    }
   ],
   "source": [
    "local_model_path = os.path.join(local_model_dir, 'model.tar.gz')\n",
    "print(\"local_model_path: \", local_model_path)"
   ]
  },
  {
   "cell_type": "markdown",
   "metadata": {},
   "source": [
    "### instance_type 을 local_gpu or local 지정"
   ]
  },
  {
   "cell_type": "code",
   "execution_count": 18,
   "metadata": {},
   "outputs": [
    {
     "name": "stdout",
     "output_type": "stream",
     "text": [
      "Instance type = local_gpu\n"
     ]
    }
   ],
   "source": [
    "instance_type = 'local_gpu' if torch.cuda.is_available() else 'local'\n",
    "print(\"Instance type = \" + instance_type)"
   ]
  },
  {
   "cell_type": "markdown",
   "metadata": {},
   "source": [
    "### sagemaker.pytorch.model.PyTorchModel 생성"
   ]
  },
  {
   "cell_type": "code",
   "execution_count": 19,
   "metadata": {},
   "outputs": [
    {
     "name": "stdout",
     "output_type": "stream",
     "text": [
      "sagemaker.config INFO - Not applying SDK defaults from location: /etc/xdg/sagemaker/config.yaml\n",
      "sagemaker.config INFO - Not applying SDK defaults from location: /home/ec2-user/SageMaker/.xdg/config/sagemaker/config.yaml\n"
     ]
    }
   ],
   "source": [
    "import os\n",
    "import time\n",
    "import sagemaker\n",
    "from sagemaker.pytorch.model import PyTorchModel\n",
    "from sagemaker import get_execution_role\n",
    "role = get_execution_role()\n",
    "sess = sagemaker.Session()\n"
   ]
  },
  {
   "cell_type": "code",
   "execution_count": 20,
   "metadata": {},
   "outputs": [],
   "source": [
    "import time\n",
    "endpoint_name = \"local-endpoint-mnist-{}\".format(int(time.time()))\n",
    "\n",
    "local_pytorch_model = PyTorchModel(model_data=local_model_path,\n",
    "                                   role=role,\n",
    "                                   entry_point='inference.py',\n",
    "                                   source_dir = 'src',\n",
    "                                   framework_version='2.0.1',\n",
    "                                   py_version='py310',\n",
    "                                   model_server_workers=1,\n",
    "                                  )\n",
    "\n"
   ]
  },
  {
   "cell_type": "markdown",
   "metadata": {},
   "source": [
    "### 로컬 SageMaker Endpoint 배포"
   ]
  },
  {
   "cell_type": "code",
   "execution_count": 21,
   "metadata": {},
   "outputs": [
    {
     "name": "stdout",
     "output_type": "stream",
     "text": [
      "Attaching to p9b20mvuwr-algo-1-jyvao\n",
      "p9b20mvuwr-algo-1-jyvao  | ['torchserve', '--start', '--model-store', '/.sagemaker/ts/models', '--ts-config', '/etc/sagemaker-ts.properties', '--log-config', '/opt/conda/lib/python3.10/site-packages/sagemaker_pytorch_serving_container/etc/log4j2.xml', '--models', 'model=/opt/ml/model']\n",
      "p9b20mvuwr-algo-1-jyvao  | Warning: TorchServe is using non-default JVM parameters: -XX:-UseContainerSupport\n",
      "p9b20mvuwr-algo-1-jyvao  | WARNING: sun.reflect.Reflection.getCallerClass is not supported. This will impact performance.\n",
      "p9b20mvuwr-algo-1-jyvao  | 2024-06-23T08:26:05,270 [WARN ] main org.pytorch.serve.util.ConfigManager - Your torchserve instance can access any URL to load models. When deploying to production, make sure to limit the set of allowed_urls in config.properties\n",
      "p9b20mvuwr-algo-1-jyvao  | 2024-06-23T08:26:05,273 [INFO ] main org.pytorch.serve.servingsdk.impl.PluginsManager - Initializing plugins manager...\n",
      "p9b20mvuwr-algo-1-jyvao  | 2024-06-23T08:26:05,346 [INFO ] main org.pytorch.serve.metrics.configuration.MetricConfiguration - Successfully loaded metrics configuration from /opt/conda/lib/python3.10/site-packages/ts/configs/metrics.yaml\n",
      "p9b20mvuwr-algo-1-jyvao  | 2024-06-23T08:26:05,524 [INFO ] main org.pytorch.serve.ModelServer - \n",
      "p9b20mvuwr-algo-1-jyvao  | Torchserve version: 0.8.2\n",
      "p9b20mvuwr-algo-1-jyvao  | TS Home: /opt/conda/lib/python3.10/site-packages\n",
      "p9b20mvuwr-algo-1-jyvao  | Current directory: /\n",
      "p9b20mvuwr-algo-1-jyvao  | Temp directory: /home/model-server/tmp\n",
      "p9b20mvuwr-algo-1-jyvao  | Metrics config path: /opt/conda/lib/python3.10/site-packages/ts/configs/metrics.yaml\n",
      "p9b20mvuwr-algo-1-jyvao  | Number of GPUs: 4\n",
      "p9b20mvuwr-algo-1-jyvao  | Number of CPUs: 32\n",
      "p9b20mvuwr-algo-1-jyvao  | Max heap size: 30688 M\n",
      "p9b20mvuwr-algo-1-jyvao  | Python executable: /opt/conda/bin/python3.10\n",
      "p9b20mvuwr-algo-1-jyvao  | Config file: /etc/sagemaker-ts.properties\n",
      "p9b20mvuwr-algo-1-jyvao  | Inference address: http://0.0.0.0:8080\n",
      "p9b20mvuwr-algo-1-jyvao  | Management address: http://0.0.0.0:8080\n",
      "p9b20mvuwr-algo-1-jyvao  | Metrics address: http://127.0.0.1:8082\n",
      "p9b20mvuwr-algo-1-jyvao  | Model Store: /.sagemaker/ts/models\n",
      "p9b20mvuwr-algo-1-jyvao  | Initial Models: model=/opt/ml/model\n",
      "p9b20mvuwr-algo-1-jyvao  | Log dir: /logs\n",
      "p9b20mvuwr-algo-1-jyvao  | Metrics dir: /logs\n",
      "p9b20mvuwr-algo-1-jyvao  | Netty threads: 0\n",
      "p9b20mvuwr-algo-1-jyvao  | Netty client threads: 0\n",
      "p9b20mvuwr-algo-1-jyvao  | Default workers per model: 1\n",
      "p9b20mvuwr-algo-1-jyvao  | Blacklist Regex: N/A\n",
      "p9b20mvuwr-algo-1-jyvao  | Maximum Response Size: 6553500\n",
      "p9b20mvuwr-algo-1-jyvao  | Maximum Request Size: 6553500\n",
      "p9b20mvuwr-algo-1-jyvao  | Limit Maximum Image Pixels: true\n",
      "p9b20mvuwr-algo-1-jyvao  | Prefer direct buffer: false\n",
      "p9b20mvuwr-algo-1-jyvao  | Allowed Urls: [file://.*|http(s)?://.*]\n",
      "p9b20mvuwr-algo-1-jyvao  | Custom python dependency for model allowed: false\n",
      "p9b20mvuwr-algo-1-jyvao  | Enable metrics API: true\n",
      "p9b20mvuwr-algo-1-jyvao  | Metrics mode: log\n",
      "p9b20mvuwr-algo-1-jyvao  | Disable system metrics: true\n",
      "p9b20mvuwr-algo-1-jyvao  | Workflow Store: /.sagemaker/ts/models\n",
      "p9b20mvuwr-algo-1-jyvao  | Model config: N/A\n",
      "p9b20mvuwr-algo-1-jyvao  | 2024-06-23T08:26:05,532 [INFO ] main org.pytorch.serve.servingsdk.impl.PluginsManager -  Loading snapshot serializer plugin...\n",
      "p9b20mvuwr-algo-1-jyvao  | 2024-06-23T08:26:05,559 [INFO ] main org.pytorch.serve.ModelServer - Loading initial models: /opt/ml/model\n",
      "p9b20mvuwr-algo-1-jyvao  | 2024-06-23T08:26:05,563 [WARN ] main org.pytorch.serve.archive.model.ModelArchive - Model archive version is not defined. Please upgrade to torch-model-archiver 0.2.0 or higher\n",
      "p9b20mvuwr-algo-1-jyvao  | 2024-06-23T08:26:05,564 [WARN ] main org.pytorch.serve.archive.model.ModelArchive - Model archive createdOn is not defined. Please upgrade to torch-model-archiver 0.2.0 or higher\n",
      "p9b20mvuwr-algo-1-jyvao  | 2024-06-23T08:26:05,567 [INFO ] main org.pytorch.serve.wlm.ModelManager - Model model loaded.\n",
      "p9b20mvuwr-algo-1-jyvao  | 2024-06-23T08:26:05,577 [INFO ] main org.pytorch.serve.ModelServer - Initialize Inference server with: EpollServerSocketChannel.\n",
      "p9b20mvuwr-algo-1-jyvao  | 2024-06-23T08:26:05,646 [INFO ] main org.pytorch.serve.ModelServer - Inference API bind to: http://0.0.0.0:8080\n",
      "p9b20mvuwr-algo-1-jyvao  | 2024-06-23T08:26:05,647 [INFO ] main org.pytorch.serve.ModelServer - Initialize Metrics server with: EpollServerSocketChannel.\n",
      "p9b20mvuwr-algo-1-jyvao  | 2024-06-23T08:26:05,648 [INFO ] main org.pytorch.serve.ModelServer - Metrics API bind to: http://127.0.0.1:8082\n",
      "p9b20mvuwr-algo-1-jyvao  | Model server started.\n",
      "p9b20mvuwr-algo-1-jyvao  | 2024-06-23T08:26:07,009 [INFO ] pool-2-thread-2 ACCESS_LOG - /172.19.0.1:52838 \"GET /ping HTTP/1.1\" 200 11\n",
      "p9b20mvuwr-algo-1-jyvao  | 2024-06-23T08:26:07,011 [INFO ] pool-2-thread-2 TS_METRICS - Requests2XX.Count:1.0|#Level:Host|#hostname:7c5b5652efca,timestamp:1719131167\n",
      "p9b20mvuwr-algo-1-jyvao  | 2024-06-23T08:26:07,222 [INFO ] W-9000-model_1.0-stdout MODEL_LOG - s_name_part0=/home/model-server/tmp/.ts.sock, s_name_part1=9000, pid=102\n",
      "p9b20mvuwr-algo-1-jyvao  | 2024-06-23T08:26:07,224 [INFO ] W-9000-model_1.0-stdout MODEL_LOG - Listening on port: /home/model-server/tmp/.ts.sock.9000\n",
      "p9b20mvuwr-algo-1-jyvao  | 2024-06-23T08:26:07,233 [INFO ] W-9000-model_1.0-stdout MODEL_LOG - Successfully loaded /opt/conda/lib/python3.10/site-packages/ts/configs/metrics.yaml.\n",
      "p9b20mvuwr-algo-1-jyvao  | 2024-06-23T08:26:07,234 [INFO ] W-9000-model_1.0-stdout MODEL_LOG - [PID]102\n",
      "p9b20mvuwr-algo-1-jyvao  | 2024-06-23T08:26:07,234 [INFO ] W-9000-model_1.0-stdout MODEL_LOG - Torch worker started.\n",
      "p9b20mvuwr-algo-1-jyvao  | 2024-06-23T08:26:07,234 [INFO ] W-9000-model_1.0-stdout MODEL_LOG - Python runtime: 3.10.9\n",
      "p9b20mvuwr-algo-1-jyvao  | 2024-06-23T08:26:07,238 [INFO ] W-9000-model_1.0 org.pytorch.serve.wlm.WorkerThread - Connecting to: /home/model-server/tmp/.ts.sock.9000\n",
      "p9b20mvuwr-algo-1-jyvao  | 2024-06-23T08:26:07,243 [INFO ] W-9000-model_1.0-stdout MODEL_LOG - Connection accepted: /home/model-server/tmp/.ts.sock.9000.\n",
      "p9b20mvuwr-algo-1-jyvao  | 2024-06-23T08:26:07,246 [INFO ] W-9000-model_1.0 org.pytorch.serve.wlm.WorkerThread - Flushing req.cmd LOAD to backend at: 1719131167246\n",
      "p9b20mvuwr-algo-1-jyvao  | 2024-06-23T08:26:07,269 [INFO ] W-9000-model_1.0-stdout MODEL_LOG - model_name: model, batchSize: 1\n",
      "p9b20mvuwr-algo-1-jyvao  | 2024-06-23T08:26:07,770 [INFO ] W-9000-model_1.0 org.pytorch.serve.wlm.WorkerThread - Backend response time: 502\n",
      "p9b20mvuwr-algo-1-jyvao  | 2024-06-23T08:26:07,771 [INFO ] W-9000-model_1.0 TS_METRICS - WorkerLoadTime.Milliseconds:2197.0|#WorkerName:W-9000-model_1.0,Level:Host|#hostname:7c5b5652efca,timestamp:1719131167\n",
      "p9b20mvuwr-algo-1-jyvao  | 2024-06-23T08:26:07,771 [INFO ] W-9000-model_1.0 TS_METRICS - WorkerThreadTime.Milliseconds:23.0|#Level:Host|#hostname:7c5b5652efca,timestamp:1719131167\n",
      "!"
     ]
    }
   ],
   "source": [
    "local_predictor = local_pytorch_model.deploy(\n",
    "                           instance_type=instance_type, \n",
    "                           initial_instance_count=1, \n",
    "                           endpoint_name=endpoint_name,\n",
    "                           wait=True,\n",
    "                           log = False,\n",
    "                        )"
   ]
  },
  {
   "cell_type": "markdown",
   "metadata": {},
   "source": [
    "## 5. 로컬 엔드포인트 추론"
   ]
  },
  {
   "cell_type": "markdown",
   "metadata": {},
   "source": [
    "### payload 생성"
   ]
  },
  {
   "cell_type": "code",
   "execution_count": 22,
   "metadata": {},
   "outputs": [
    {
     "name": "stdout",
     "output_type": "stream",
     "text": [
      "filename:  5479.png\n",
      "input_data:  (784,)\n",
      "## payload: \n",
      " {\"input\": [0.0, 0.0, 0.0, 0.0, 0.0, 0.0, 0.0, 0.0, 0.0, 0.0, 0.0, 0.0, 0.0, 0.0, 0.0, 0.0, 0.0, 0.0, 0.0, 0.0, 0.0, 0.0, 0.0, 0.0, 0.0, 0.0, 0.0, 0.0, 0.0, 0.0, 0.0, 0.0, 0.0, 0.0, 0.0, 0.0, 0.0, 0.0, 0.0, 0.0, 0.0, 0.0, 0.0, 0.0, 0.0, 0.0, 0.0, 0.0, 0.0, 0.0, 0.0, 0.0, 0.0, 0.0, 0.0, 0.0, 0.0, 0.0, 0.0, 0.0, 0.0, 0.0, 0.0, 0.0, 0.0, 0.0, 0.0, 0.0, 0.0, 0.0, 0.0, 0.0, 0.0, 0.0, 0.0, 0.0, 0.0, 0.0, 0.0, 0.0, 0.0, 0.0, 0.0, 0.0, 0.0, 0.0, 0.0, 0.0, 0.0, 0.0, 0.0, 0.0, 0.0, 0.0, 0.0, 0.0, 0.0, 0.0, 0.0, 0.0, 0.0, 0.0, 0.0, 0.0, 0.0, 0.0, 0.0, 0.0, 0.0, 0.0, 0.0, 0.0, 0.0, 0.0, 0.0, 0.0, 0.0, 0.0, 0.0, 0.0, 0.0, 0.0, 0.0, 0.0, 84.0, 120.0, 164.0, 254.0, 254.0, 254.0, 157.0, 47.0, 0.0, 0.0, 0.0, 0.0, 0.0, 0.0, 0.0, 0.0, 0.0, 0.0, 0.0, 0.0, 0.0, 0.0, 0.0, 0.0, 0.0, 0.0, 0.0, 117.0, 245.0, 254.0, 254.0, 254.0, 254.0, 254.0, 254.0, 219.0, 0.0, 0.0, 0.0, 0.0, 0.0, 0.0, 0.0, 0.0, 0.0, 0.0, 0.0, 0.0, 0.0, 0.0, 0.0, 0.0, 0.0, 0.0, 0.0, 137.0, 254.0, 254.0, 254.0, 199.0, 175.0, 205.0, 254.0, 248.0, 54.0, 0.0, 0.0, 0.0, 0.0, 0.0, 0.0, 0.0, 0.0, 0.0, 0.0, 0.0, 0.0, 0.0, 0.0, 0.0, 0.0, 0.0, 0.0, 26.0, 192.0, 95.0, 19.0, 6.0, 22.0, 160.0, 254.0, 243.0, 36.0, 0.0, 0.0, 0.0, 0.0, 0.0, 0.0, 0.0, 0.0, 0.0, 0.0, 0.0, 0.0, 0.0, 0.0, 0.0, 0.0, 0.0, 0.0, 0.0, 0.0, 0.0, 0.0, 69.0, 220.0, 254.0, 254.0, 158.0, 0.0, 0.0, 0.0, 0.0, 0.0, 0.0, 0.0, 0.0, 0.0, 0.0, 0.0, 0.0, 0.0, 0.0, 0.0, 0.0, 0.0, 0.0, 0.0, 0.0, 0.0, 82.0, 164.0, 254.0, 254.0, 254.0, 196.0, 15.0, 0.0, 0.0, 0.0, 0.0, 0.0, 0.0, 0.0, 0.0, 0.0, 0.0, 0.0, 0.0, 0.0, 0.0, 0.0, 0.0, 0.0, 0.0, 0.0, 26.0, 155.0, 254.0, 254.0, 254.0, 250.0, 158.0, 15.0, 0.0, 0.0, 0.0, 0.0, 0.0, 0.0, 0.0, 0.0, 0.0, 0.0, 0.0, 0.0, 0.0, 0.0, 0.0, 0.0, 0.0, 0.0, 0.0, 85.0, 218.0, 254.0, 254.0, 254.0, 254.0, 226.0, 49.0, 0.0, 0.0, 0.0, 0.0, 0.0, 0.0, 0.0, 0.0, 0.0, 0.0, 0.0, 0.0, 0.0, 0.0, 0.0, 0.0, 0.0, 0.0, 0.0, 0.0, 176.0, 254.0, 254.0, 254.0, 254.0, 254.0, 254.0, 246.0, 175.0, 92.0, 12.0, 0.0, 0.0, 0.0, 0.0, 0.0, 0.0, 0.0, 0.0, 0.0, 0.0, 0.0, 0.0, 0.0, 0.0, 0.0, 0.0, 0.0, 176.0, 254.0, 254.0, 232.0, 163.0, 185.0, 155.0, 231.0, 254.0, 254.0, 153.0, 0.0, 0.0, 0.0, 0.0, 0.0, 0.0, 0.0, 0.0, 0.0, 0.0, 0.0, 0.0, 0.0, 0.0, 0.0, 0.0, 0.0, 99.0, 143.0, 61.0, 0.0, 0.0, 0.0, 0.0, 0.0, 122.0, 246.0, 224.0, 12.0, 0.0, 0.0, 0.0, 0.0, 0.0, 0.0, 0.0, 0.0, 0.0, 0.0, 0.0, 0.0, 0.0, 0.0, 0.0, 0.0, 0.0, 0.0, 0.0, 0.0, 0.0, 0.0, 0.0, 0.0, 5.0, 218.0, 254.0, 65.0, 0.0, 0.0, 0.0, 0.0, 0.0, 0.0, 0.0, 0.0, 0.0, 0.0, 0.0, 0.0, 0.0, 0.0, 0.0, 0.0, 0.0, 0.0, 0.0, 0.0, 0.0, 0.0, 0.0, 0.0, 59.0, 254.0, 254.0, 49.0, 0.0, 0.0, 0.0, 0.0, 0.0, 0.0, 0.0, 0.0, 0.0, 0.0, 0.0, 0.0, 0.0, 0.0, 0.0, 0.0, 0.0, 0.0, 0.0, 0.0, 0.0, 0.0, 7.0, 78.0, 202.0, 254.0, 241.0, 16.0, 0.0, 0.0, 0.0, 0.0, 0.0, 0.0, 0.0, 0.0, 0.0, 0.0, 0.0, 0.0, 0.0, 0.0, 0.0, 0.0, 0.0, 0.0, 0.0, 0.0, 0.0, 0.0, 152.0, 254.0, 254.0, 246.0, 70.0, 0.0, 0.0, 0.0, 0.0, 0.0, 0.0, 0.0, 0.0, 0.0, 0.0, 0.0, 73.0, 127.0, 5.0, 0.0, 0.0, 0.0, 0.0, 0.0, 0.0, 0.0, 5.0, 157.0, 254.0, 254.0, 242.0, 68.0, 0.0, 0.0, 0.0, 0.0, 0.0, 0.0, 0.0, 0.0, 0.0, 0.0, 0.0, 0.0, 118.0, 254.0, 150.0, 13.0, 0.0, 0.0, 0.0, 0.0, 0.0, 43.0, 203.0, 254.0, 254.0, 208.0, 106.0, 0.0, 0.0, 0.0, 0.0, 0.0, 0.0, 0.0, 0.0, 0.0, 0.0, 0.0, 0.0, 0.0, 44.0, 230.0, 254.0, 224.0, 177.0, 131.0, 79.0, 131.0, 176.0, 254.0, 254.0, 254.0, 166.0, 48.0, 0.0, 0.0, 0.0, 0.0, 0.0, 0.0, 0.0, 0.0, 0.0, 0.0, 0.0, 0.0, 0.0, 0.0, 0.0, 44.0, 228.0, 254.0, 255.0, 254.0, 254.0, 254.0, 254.0, 255.0, 250.0, 117.0, 2.0, 0.0, 0.0, 0.0, 0.0, 0.0, 0.0, 0.0, 0.0, 0.0, 0.0, 0.0, 0.0, 0.0, 0.0, 0.0, 0.0, 0.0, 32.0, 133.0, 179.0, 254.0, 254.0, 254.0, 178.0, 156.0, 69.0, 0.0, 0.0, 0.0, 0.0, 0.0, 0.0, 0.0, 0.0, 0.0, 0.0, 0.0, 0.0, 0.0, 0.0, 0.0, 0.0, 0.0, 0.0, 0.0, 0.0, 0.0, 0.0, 0.0, 0.0, 0.0, 0.0, 0.0, 0.0, 0.0, 0.0, 0.0, 0.0, 0.0, 0.0, 0.0, 0.0, 0.0, 0.0, 0.0, 0.0, 0.0, 0.0, 0.0, 0.0, 0.0, 0.0, 0.0, 0.0, 0.0, 0.0, 0.0, 0.0, 0.0, 0.0, 0.0, 0.0, 0.0, 0.0, 0.0, 0.0, 0.0, 0.0, 0.0, 0.0, 0.0, 0.0, 0.0, 0.0, 0.0, 0.0, 0.0, 0.0, 0.0, 0.0, 0.0, 0.0, 0.0, 0.0, 0.0, 0.0, 0.0, 0.0, 0.0, 0.0, 0.0, 0.0, 0.0, 0.0, 0.0, 0.0, 0.0, 0.0, 0.0, 0.0, 0.0, 0.0, 0.0, 0.0, 0.0, 0.0, 0.0, 0.0, 0.0, 0.0, 0.0, 0.0, 0.0, 0.0, 0.0, 0.0, 0.0, 0.0, 0.0, 0.0, 0.0, 0.0, 0.0, 0.0, 0.0, 0.0, 0.0, 0.0, 0.0, 0.0, 0.0], \"resolution\": [28, 28]}\n"
     ]
    }
   ],
   "source": [
    "test_label = 3\n",
    "payload = create_payload(label= test_label, testing_dir=testing_dir)\n",
    "print(\"## payload: \\n\", payload)    \n",
    "    "
   ]
  },
  {
   "cell_type": "markdown",
   "metadata": {},
   "source": [
    "### sagemaker runtime_client 생성"
   ]
  },
  {
   "cell_type": "code",
   "execution_count": 23,
   "metadata": {},
   "outputs": [
    {
     "name": "stdout",
     "output_type": "stream",
     "text": [
      "runtime_client:  <sagemaker.local.local_session.LocalSagemakerRuntimeClient object at 0x7fbca21ade10>\n"
     ]
    }
   ],
   "source": [
    "import boto3\n",
    "\n",
    "def get_sm_runtime_client(instance_type):\n",
    "    if instance_type in ['local_gpu', 'local']:\n",
    "        runtime_client = sagemaker.local.LocalSagemakerRuntimeClient()    \n",
    "        print(\"runtime_client: \", runtime_client)\n",
    "    else:\n",
    "        runtime_client = boto3.Session().client('sagemaker-runtime')\n",
    "        print(\"runtime_client: \", runtime_client)    \n",
    "\n",
    "    return runtime_client        \n",
    "\n",
    "\n",
    "runtime_client = get_sm_runtime_client(instance_type)\n"
   ]
  },
  {
   "cell_type": "markdown",
   "metadata": {},
   "source": [
    "### boto3 invoke_endpoint() 호출"
   ]
  },
  {
   "cell_type": "code",
   "execution_count": 24,
   "metadata": {},
   "outputs": [
    {
     "name": "stdout",
     "output_type": "stream",
     "text": [
      "p9b20mvuwr-algo-1-jyvao  | 2024-06-23T08:26:38,549 [INFO ] epollEventLoopGroup-3-2 TS_METRICS - ts_inference_requests_total.Count:1.0|#model_name:model,model_version:default|#hostname:7c5b5652efca,timestamp:1719131198\n",
      "p9b20mvuwr-algo-1-jyvao  | 2024-06-23T08:26:38,551 [INFO ] W-9000-model_1.0 org.pytorch.serve.wlm.WorkerThread - Flushing req.cmd PREDICT to backend at: 1719131198551\n",
      "p9b20mvuwr-algo-1-jyvao  | 2024-06-23T08:26:38,554 [INFO ] W-9000-model_1.0-stdout MODEL_LOG - ###############################\n",
      "p9b20mvuwr-algo-1-jyvao  | 2024-06-23T08:26:38,555 [INFO ] W-9000-model_1.0-stdout MODEL_LOG - ## Model is successfully loaded\n",
      "p9b20mvuwr-algo-1-jyvao  | 2024-06-23T08:26:38,555 [INFO ] W-9000-model_1.0-stdout MODEL_LOG - ###############################\n",
      "p9b20mvuwr-algo-1-jyvao  | 2024-06-23T08:26:38,556 [INFO ] W-9000-model_1.0-stdout MODEL_LOG - Backend received inference at: 1719131198\n",
      "p9b20mvuwr-algo-1-jyvao  | 2024-06-23T08:26:38,918 [INFO ] W-9000-model_1.0-stdout MODEL_LOG - ###############################\n",
      "p9b20mvuwr-algo-1-jyvao  | 2024-06-23T08:26:38,919 [INFO ] W-9000-model_1.0-stdout MODEL_LOG - ## Starting Input_fn\n",
      "p9b20mvuwr-algo-1-jyvao  | 2024-06-23T08:26:38,919 [INFO ] W-9000-model_1.0-stdout MODEL_LOG - ###############################\n",
      "p9b20mvuwr-algo-1-jyvao  | 2024-06-23T08:26:38,919 [INFO ] W-9000-model_1.0-stdout MODEL_LOG - ## content_type:  application/json\n",
      "p9b20mvuwr-algo-1-jyvao  | 2024-06-23T08:26:38,919 [INFO ] W-9000-model_1.0 ACCESS_LOG - /172.19.0.1:40828 \"POST /invocations HTTP/1.1\" 200 375\n",
      "p9b20mvuwr-algo-1-jyvao  | 2024-06-23T08:26:38,920 [INFO ] W-9000-model_1.0-stdout MODEL_LOG - ## np.shape:  torch.Size([1, 1, 28, 28])\n",
      "p9b20mvuwr-algo-1-jyvao  | 2024-06-23T08:26:38,920 [INFO ] W-9000-model_1.0 TS_METRICS - Requests2XX.Count:1.0|#Level:Host|#hostname:7c5b5652efca,timestamp:1719131198\n",
      "p9b20mvuwr-algo-1-jyvao  | 2024-06-23T08:26:38,920 [INFO ] W-9000-model_1.0-stdout MODEL_LOG - ###############################\n",
      "p9b20mvuwr-algo-1-jyvao  | 2024-06-23T08:26:38,921 [INFO ] W-9000-model_1.0 TS_METRICS - ts_inference_latency_microseconds.Microseconds:367701.94|#model_name:model,model_version:default|#hostname:7c5b5652efca,timestamp:1719131198\n",
      "p9b20mvuwr-algo-1-jyvao  | 2024-06-23T08:26:38,921 [INFO ] W-9000-model_1.0-stdout MODEL_LOG - ## Starting Predict_fn\n",
      "p9b20mvuwr-algo-1-jyvao  | 2024-06-23T08:26:38,921 [INFO ] W-9000-model_1.0 TS_METRICS - ts_queue_latency_microseconds.Microseconds:161.232|#model_name:model,model_version:default|#hostname:7c5b5652efca,timestamp:1719131198\n",
      "p9b20mvuwr-algo-1-jyvao  | 2024-06-23T08:26:38,922 [INFO ] W-9000-model_1.0-stdout MODEL_LOG - ###############################\n",
      "p9b20mvuwr-algo-1-jyvao  | 2024-06-23T08:26:38,922 [INFO ] W-9000-model_1.0 TS_METRICS - QueueTime.Milliseconds:0.0|#Level:Host|#hostname:7c5b5652efca,timestamp:1719131198\n",
      "p9b20mvuwr-algo-1-jyvao  | 2024-06-23T08:26:38,923 [INFO ] W-9000-model_1.0-stdout MODEL_LOG - shape:  torch.Size([1, 1, 28, 28])\n",
      "p9b20mvuwr-algo-1-jyvao  | 2024-06-23T08:26:38,923 [INFO ] W-9000-model_1.0 org.pytorch.serve.wlm.WorkerThread - Backend response time: 366\n",
      "p9b20mvuwr-algo-1-jyvao  | 2024-06-23T08:26:38,923 [INFO ] W-9000-model_1.0 TS_METRICS - WorkerThreadTime.Milliseconds:6.0|#Level:Host|#hostname:7c5b5652efca,timestamp:1719131198\n",
      "p9b20mvuwr-algo-1-jyvao  | 2024-06-23T08:26:38,923 [INFO ] W-9000-model_1.0-stdout MODEL_LOG - ## Result confidences: tensor([[3.5067e-14, 3.1423e-10, 4.4553e-13, 1.0000e+00, 3.2764e-16, 4.0042e-07,\n",
      "p9b20mvuwr-algo-1-jyvao  | 2024-06-23T08:26:38,924 [INFO ] W-9000-model_1.0-stdout MODEL_LOG -          6.4458e-14, 6.8528e-12, 1.9019e-12, 2.3170e-10]], device='cuda:0')\n",
      "p9b20mvuwr-algo-1-jyvao  | 2024-06-23T08:26:38,924 [INFO ] W-9000-model_1.0-stdout MODEL_LOG - ###############################\n",
      "p9b20mvuwr-algo-1-jyvao  | 2024-06-23T08:26:38,924 [INFO ] W-9000-model_1.0-stdout MODEL_LOG - ## Starting Output_fn\n",
      "p9b20mvuwr-algo-1-jyvao  | 2024-06-23T08:26:38,925 [INFO ] W-9000-model_1.0-stdout MODEL_LOG - ###############################\n",
      "p9b20mvuwr-algo-1-jyvao  | 2024-06-23T08:26:38,925 [INFO ] W-9000-model_1.0-stdout org.pytorch.serve.wlm.WorkerLifeCycle - result=[METRICS]PredictionTime.Milliseconds:363.73|#ModelName:model,Level:Model|#hostname:7c5b5652efca,1719131198,3564911c-29d5-4322-a730-b22cc8553f4f, pattern=[METRICS]\n"
     ]
    }
   ],
   "source": [
    "import json\n",
    "\n",
    "start_time = time.time()\n",
    "\n",
    "def boto3_invoke_endpoint(runtime_client, endpoint_name, payload):\n",
    "\n",
    "        response = runtime_client.invoke_endpoint(\n",
    "                EndpointName=endpoint_name, \n",
    "                ContentType='application/json', \n",
    "                Body=payload,\n",
    "                )\n",
    "\n",
    "        return response\n",
    "\n",
    "response = boto3_invoke_endpoint(runtime_client, endpoint_name, payload)        \n",
    "\n",
    "\n"
   ]
  },
  {
   "cell_type": "code",
   "execution_count": 25,
   "metadata": {},
   "outputs": [
    {
     "name": "stdout",
     "output_type": "stream",
     "text": [
      "p9b20mvuwr-algo-1-jyvao  | 2024-06-23T08:26:38,928 [INFO ] W-9000-model_1.0-stdout MODEL_METRICS - PredictionTime.ms:363.73|#ModelName:model,Level:Model|#hostname:7c5b5652efca,requestID:3564911c-29d5-4322-a730-b22cc8553f4f,timestamp:1719131198\n"
     ]
    },
    {
     "name": "stdout",
     "output_type": "stream",
     "text": [
      "result:  ['[3.5067052207978996e-14, 3.142335835981669e-10, 4.4553388213984524e-13, 0.9999996423721313, 3.2763954377801503e-16, 4.0042363025349914e-07, 6.445760131158426e-14, 6.852785266325823e-12, 1.901922846644921e-12, 2.3169910434717167e-10]']\n",
      "output:  [3.5067052207978996e-14, 3.142335835981669e-10, 4.4553388213984524e-13, 0.9999996423721313, 3.2763954377801503e-16, 4.0042363025349914e-07, 6.445760131158426e-14, 6.852785266325823e-12, 1.901922846644921e-12, 2.3169910434717167e-10]\n",
      "## Max confidence index: 3\n"
     ]
    }
   ],
   "source": [
    "def parse_output(response):\n",
    "    result = response['Body'].read().decode().splitlines()                            \n",
    "    print('result: ', result)\n",
    "    output = json.loads(result[0])\n",
    "    print('output: ', output)\n",
    "\n",
    "    max_index = np.argmax(output)\n",
    "    print(\"## Max confidence index:\", max_index)    \n",
    "    \n",
    "parse_output(response)\n",
    "    "
   ]
  },
  {
   "cell_type": "markdown",
   "metadata": {},
   "source": [
    "## 6. 로컬 엔드포인트 삭제"
   ]
  },
  {
   "cell_type": "code",
   "execution_count": 26,
   "metadata": {},
   "outputs": [
    {
     "name": "stdout",
     "output_type": "stream",
     "text": [
      "#### Start\n",
      "--- Deleted model: pytorch-inference-2024-06-23-08-26-01-526\n",
      "--- Deleted endpoint: local-endpoint-mnist-1719131160\n",
      "--- Deleted endpoint_config: local-endpoint-mnist-1719131160\n"
     ]
    }
   ],
   "source": [
    "def delete_endpoint(client, endpoint_name):\n",
    "    print(\"#### Start\")\n",
    "    response = client.describe_endpoint(EndpointName=endpoint_name)\n",
    "    EndpointConfigName = response['EndpointConfigName']    \n",
    "    \n",
    "    response = client.describe_endpoint_config(EndpointConfigName=EndpointConfigName)\n",
    "    \n",
    "    model_name = response['ProductionVariants'][0]['ModelName']\n",
    "\n",
    "\n",
    "    print(f'--- Deleted model: {model_name}')\n",
    "    print(f'--- Deleted endpoint: {endpoint_name}')\n",
    "    print(f'--- Deleted endpoint_config: {EndpointConfigName}')    \n",
    "    \n",
    "    client.delete_model(ModelName=model_name)    \n",
    "    client.delete_endpoint_config(EndpointConfigName=EndpointConfigName)        \n",
    "    client.delete_endpoint(EndpointName=endpoint_name)\n",
    "\n",
    "client = sagemaker.local.LocalSagemakerClient()\n",
    "delete_endpoint(client, endpoint_name)\n",
    "\n"
   ]
  },
  {
   "cell_type": "markdown",
   "metadata": {},
   "source": [
    "## 7. SageMaker Endpoint 생성 "
   ]
  },
  {
   "cell_type": "code",
   "execution_count": 27,
   "metadata": {},
   "outputs": [],
   "source": [
    "instance_type = 'ml.m5.xlarge' "
   ]
  },
  {
   "cell_type": "code",
   "execution_count": 28,
   "metadata": {},
   "outputs": [],
   "source": [
    "import time\n",
    "sm_endpoint_name = \"sm-endpoint-mnist-{}\".format(int(time.time()))\n",
    "\n",
    "sm_pytorch_model = PyTorchModel(model_data=local_model_path,\n",
    "                                   role=role,\n",
    "                                   entry_point='inference.py',\n",
    "                                   source_dir = 'src',\n",
    "                                   framework_version='2.0.1',\n",
    "                                   py_version='py310',\n",
    "                                   model_server_workers=1,\n",
    "                                  )"
   ]
  },
  {
   "cell_type": "code",
   "execution_count": 29,
   "metadata": {},
   "outputs": [
    {
     "name": "stdout",
     "output_type": "stream",
     "text": [
      "-----!"
     ]
    }
   ],
   "source": [
    "sm_predictor = sm_pytorch_model.deploy(\n",
    "                           instance_type=instance_type, \n",
    "                           initial_instance_count=1, \n",
    "                           endpoint_name=sm_endpoint_name,\n",
    "                           wait=True,\n",
    "                           log = False,\n",
    "                        )"
   ]
  },
  {
   "cell_type": "markdown",
   "metadata": {},
   "source": [
    "## 8. SageMaker Endpoint 추론"
   ]
  },
  {
   "cell_type": "code",
   "execution_count": 30,
   "metadata": {},
   "outputs": [
    {
     "name": "stdout",
     "output_type": "stream",
     "text": [
      "filename:  5479.png\n",
      "input_data:  (784,)\n",
      "## payload: \n",
      " {\"input\": [0.0, 0.0, 0.0, 0.0, 0.0, 0.0, 0.0, 0.0, 0.0, 0.0, 0.0, 0.0, 0.0, 0.0, 0.0, 0.0, 0.0, 0.0, 0.0, 0.0, 0.0, 0.0, 0.0, 0.0, 0.0, 0.0, 0.0, 0.0, 0.0, 0.0, 0.0, 0.0, 0.0, 0.0, 0.0, 0.0, 0.0, 0.0, 0.0, 0.0, 0.0, 0.0, 0.0, 0.0, 0.0, 0.0, 0.0, 0.0, 0.0, 0.0, 0.0, 0.0, 0.0, 0.0, 0.0, 0.0, 0.0, 0.0, 0.0, 0.0, 0.0, 0.0, 0.0, 0.0, 0.0, 0.0, 0.0, 0.0, 0.0, 0.0, 0.0, 0.0, 0.0, 0.0, 0.0, 0.0, 0.0, 0.0, 0.0, 0.0, 0.0, 0.0, 0.0, 0.0, 0.0, 0.0, 0.0, 0.0, 0.0, 0.0, 0.0, 0.0, 0.0, 0.0, 0.0, 0.0, 0.0, 0.0, 0.0, 0.0, 0.0, 0.0, 0.0, 0.0, 0.0, 0.0, 0.0, 0.0, 0.0, 0.0, 0.0, 0.0, 0.0, 0.0, 0.0, 0.0, 0.0, 0.0, 0.0, 0.0, 0.0, 0.0, 0.0, 0.0, 84.0, 120.0, 164.0, 254.0, 254.0, 254.0, 157.0, 47.0, 0.0, 0.0, 0.0, 0.0, 0.0, 0.0, 0.0, 0.0, 0.0, 0.0, 0.0, 0.0, 0.0, 0.0, 0.0, 0.0, 0.0, 0.0, 0.0, 117.0, 245.0, 254.0, 254.0, 254.0, 254.0, 254.0, 254.0, 219.0, 0.0, 0.0, 0.0, 0.0, 0.0, 0.0, 0.0, 0.0, 0.0, 0.0, 0.0, 0.0, 0.0, 0.0, 0.0, 0.0, 0.0, 0.0, 0.0, 137.0, 254.0, 254.0, 254.0, 199.0, 175.0, 205.0, 254.0, 248.0, 54.0, 0.0, 0.0, 0.0, 0.0, 0.0, 0.0, 0.0, 0.0, 0.0, 0.0, 0.0, 0.0, 0.0, 0.0, 0.0, 0.0, 0.0, 0.0, 26.0, 192.0, 95.0, 19.0, 6.0, 22.0, 160.0, 254.0, 243.0, 36.0, 0.0, 0.0, 0.0, 0.0, 0.0, 0.0, 0.0, 0.0, 0.0, 0.0, 0.0, 0.0, 0.0, 0.0, 0.0, 0.0, 0.0, 0.0, 0.0, 0.0, 0.0, 0.0, 69.0, 220.0, 254.0, 254.0, 158.0, 0.0, 0.0, 0.0, 0.0, 0.0, 0.0, 0.0, 0.0, 0.0, 0.0, 0.0, 0.0, 0.0, 0.0, 0.0, 0.0, 0.0, 0.0, 0.0, 0.0, 0.0, 82.0, 164.0, 254.0, 254.0, 254.0, 196.0, 15.0, 0.0, 0.0, 0.0, 0.0, 0.0, 0.0, 0.0, 0.0, 0.0, 0.0, 0.0, 0.0, 0.0, 0.0, 0.0, 0.0, 0.0, 0.0, 0.0, 26.0, 155.0, 254.0, 254.0, 254.0, 250.0, 158.0, 15.0, 0.0, 0.0, 0.0, 0.0, 0.0, 0.0, 0.0, 0.0, 0.0, 0.0, 0.0, 0.0, 0.0, 0.0, 0.0, 0.0, 0.0, 0.0, 0.0, 85.0, 218.0, 254.0, 254.0, 254.0, 254.0, 226.0, 49.0, 0.0, 0.0, 0.0, 0.0, 0.0, 0.0, 0.0, 0.0, 0.0, 0.0, 0.0, 0.0, 0.0, 0.0, 0.0, 0.0, 0.0, 0.0, 0.0, 0.0, 176.0, 254.0, 254.0, 254.0, 254.0, 254.0, 254.0, 246.0, 175.0, 92.0, 12.0, 0.0, 0.0, 0.0, 0.0, 0.0, 0.0, 0.0, 0.0, 0.0, 0.0, 0.0, 0.0, 0.0, 0.0, 0.0, 0.0, 0.0, 176.0, 254.0, 254.0, 232.0, 163.0, 185.0, 155.0, 231.0, 254.0, 254.0, 153.0, 0.0, 0.0, 0.0, 0.0, 0.0, 0.0, 0.0, 0.0, 0.0, 0.0, 0.0, 0.0, 0.0, 0.0, 0.0, 0.0, 0.0, 99.0, 143.0, 61.0, 0.0, 0.0, 0.0, 0.0, 0.0, 122.0, 246.0, 224.0, 12.0, 0.0, 0.0, 0.0, 0.0, 0.0, 0.0, 0.0, 0.0, 0.0, 0.0, 0.0, 0.0, 0.0, 0.0, 0.0, 0.0, 0.0, 0.0, 0.0, 0.0, 0.0, 0.0, 0.0, 0.0, 5.0, 218.0, 254.0, 65.0, 0.0, 0.0, 0.0, 0.0, 0.0, 0.0, 0.0, 0.0, 0.0, 0.0, 0.0, 0.0, 0.0, 0.0, 0.0, 0.0, 0.0, 0.0, 0.0, 0.0, 0.0, 0.0, 0.0, 0.0, 59.0, 254.0, 254.0, 49.0, 0.0, 0.0, 0.0, 0.0, 0.0, 0.0, 0.0, 0.0, 0.0, 0.0, 0.0, 0.0, 0.0, 0.0, 0.0, 0.0, 0.0, 0.0, 0.0, 0.0, 0.0, 0.0, 7.0, 78.0, 202.0, 254.0, 241.0, 16.0, 0.0, 0.0, 0.0, 0.0, 0.0, 0.0, 0.0, 0.0, 0.0, 0.0, 0.0, 0.0, 0.0, 0.0, 0.0, 0.0, 0.0, 0.0, 0.0, 0.0, 0.0, 0.0, 152.0, 254.0, 254.0, 246.0, 70.0, 0.0, 0.0, 0.0, 0.0, 0.0, 0.0, 0.0, 0.0, 0.0, 0.0, 0.0, 73.0, 127.0, 5.0, 0.0, 0.0, 0.0, 0.0, 0.0, 0.0, 0.0, 5.0, 157.0, 254.0, 254.0, 242.0, 68.0, 0.0, 0.0, 0.0, 0.0, 0.0, 0.0, 0.0, 0.0, 0.0, 0.0, 0.0, 0.0, 118.0, 254.0, 150.0, 13.0, 0.0, 0.0, 0.0, 0.0, 0.0, 43.0, 203.0, 254.0, 254.0, 208.0, 106.0, 0.0, 0.0, 0.0, 0.0, 0.0, 0.0, 0.0, 0.0, 0.0, 0.0, 0.0, 0.0, 0.0, 44.0, 230.0, 254.0, 224.0, 177.0, 131.0, 79.0, 131.0, 176.0, 254.0, 254.0, 254.0, 166.0, 48.0, 0.0, 0.0, 0.0, 0.0, 0.0, 0.0, 0.0, 0.0, 0.0, 0.0, 0.0, 0.0, 0.0, 0.0, 0.0, 44.0, 228.0, 254.0, 255.0, 254.0, 254.0, 254.0, 254.0, 255.0, 250.0, 117.0, 2.0, 0.0, 0.0, 0.0, 0.0, 0.0, 0.0, 0.0, 0.0, 0.0, 0.0, 0.0, 0.0, 0.0, 0.0, 0.0, 0.0, 0.0, 32.0, 133.0, 179.0, 254.0, 254.0, 254.0, 178.0, 156.0, 69.0, 0.0, 0.0, 0.0, 0.0, 0.0, 0.0, 0.0, 0.0, 0.0, 0.0, 0.0, 0.0, 0.0, 0.0, 0.0, 0.0, 0.0, 0.0, 0.0, 0.0, 0.0, 0.0, 0.0, 0.0, 0.0, 0.0, 0.0, 0.0, 0.0, 0.0, 0.0, 0.0, 0.0, 0.0, 0.0, 0.0, 0.0, 0.0, 0.0, 0.0, 0.0, 0.0, 0.0, 0.0, 0.0, 0.0, 0.0, 0.0, 0.0, 0.0, 0.0, 0.0, 0.0, 0.0, 0.0, 0.0, 0.0, 0.0, 0.0, 0.0, 0.0, 0.0, 0.0, 0.0, 0.0, 0.0, 0.0, 0.0, 0.0, 0.0, 0.0, 0.0, 0.0, 0.0, 0.0, 0.0, 0.0, 0.0, 0.0, 0.0, 0.0, 0.0, 0.0, 0.0, 0.0, 0.0, 0.0, 0.0, 0.0, 0.0, 0.0, 0.0, 0.0, 0.0, 0.0, 0.0, 0.0, 0.0, 0.0, 0.0, 0.0, 0.0, 0.0, 0.0, 0.0, 0.0, 0.0, 0.0, 0.0, 0.0, 0.0, 0.0, 0.0, 0.0, 0.0, 0.0, 0.0, 0.0, 0.0, 0.0, 0.0, 0.0, 0.0, 0.0, 0.0], \"resolution\": [28, 28]}\n",
      "runtime_client:  <botocore.client.SageMakerRuntime object at 0x7fbc11867f70>\n",
      "result:  ['[3.5067052207978996e-14, 3.1423419422083043e-10, 4.455355897582669e-13, 0.9999996423721313, 3.276420319372976e-16, 4.0042476712187636e-07, 6.445772328432867e-14, 6.8527982767518925e-12, 1.9019265329323076e-12, 2.3169997864780356e-10]']\n",
      "output:  [3.5067052207978996e-14, 3.1423419422083043e-10, 4.455355897582669e-13, 0.9999996423721313, 3.276420319372976e-16, 4.0042476712187636e-07, 6.445772328432867e-14, 6.8527982767518925e-12, 1.9019265329323076e-12, 2.3169997864780356e-10]\n",
      "## Max confidence index: 3\n"
     ]
    }
   ],
   "source": [
    "test_label = 3\n",
    "payload = create_payload(label= test_label, testing_dir=testing_dir)\n",
    "print(\"## payload: \\n\", payload)    \n",
    "\n",
    "\n",
    "runtime_client = get_sm_runtime_client(instance_type)\n",
    "response = boto3_invoke_endpoint(runtime_client, sm_endpoint_name, payload)        \n",
    "parse_output(response)\n",
    "    "
   ]
  },
  {
   "cell_type": "markdown",
   "metadata": {},
   "source": [
    "## 9. SageMaker Endpoint 삭제"
   ]
  },
  {
   "cell_type": "code",
   "execution_count": 31,
   "metadata": {},
   "outputs": [
    {
     "name": "stdout",
     "output_type": "stream",
     "text": [
      "#### Start\n",
      "--- Deleted model: pytorch-inference-2024-06-23-08-26-52-875\n",
      "--- Deleted endpoint: sm-endpoint-mnist-1719131211\n",
      "--- Deleted endpoint_config: sm-endpoint-mnist-1719131211\n"
     ]
    }
   ],
   "source": [
    "client = boto3.Session().client('sagemaker')\n",
    "delete_endpoint(client,sm_endpoint_name)"
   ]
  },
  {
   "cell_type": "code",
   "execution_count": null,
   "metadata": {},
   "outputs": [],
   "source": []
  }
 ],
 "metadata": {
  "availableInstances": [
   {
    "_defaultOrder": 0,
    "_isFastLaunch": true,
    "category": "General purpose",
    "gpuNum": 0,
    "hideHardwareSpecs": false,
    "memoryGiB": 4,
    "name": "ml.t3.medium",
    "vcpuNum": 2
   },
   {
    "_defaultOrder": 1,
    "_isFastLaunch": false,
    "category": "General purpose",
    "gpuNum": 0,
    "hideHardwareSpecs": false,
    "memoryGiB": 8,
    "name": "ml.t3.large",
    "vcpuNum": 2
   },
   {
    "_defaultOrder": 2,
    "_isFastLaunch": false,
    "category": "General purpose",
    "gpuNum": 0,
    "hideHardwareSpecs": false,
    "memoryGiB": 16,
    "name": "ml.t3.xlarge",
    "vcpuNum": 4
   },
   {
    "_defaultOrder": 3,
    "_isFastLaunch": false,
    "category": "General purpose",
    "gpuNum": 0,
    "hideHardwareSpecs": false,
    "memoryGiB": 32,
    "name": "ml.t3.2xlarge",
    "vcpuNum": 8
   },
   {
    "_defaultOrder": 4,
    "_isFastLaunch": true,
    "category": "General purpose",
    "gpuNum": 0,
    "hideHardwareSpecs": false,
    "memoryGiB": 8,
    "name": "ml.m5.large",
    "vcpuNum": 2
   },
   {
    "_defaultOrder": 5,
    "_isFastLaunch": false,
    "category": "General purpose",
    "gpuNum": 0,
    "hideHardwareSpecs": false,
    "memoryGiB": 16,
    "name": "ml.m5.xlarge",
    "vcpuNum": 4
   },
   {
    "_defaultOrder": 6,
    "_isFastLaunch": false,
    "category": "General purpose",
    "gpuNum": 0,
    "hideHardwareSpecs": false,
    "memoryGiB": 32,
    "name": "ml.m5.2xlarge",
    "vcpuNum": 8
   },
   {
    "_defaultOrder": 7,
    "_isFastLaunch": false,
    "category": "General purpose",
    "gpuNum": 0,
    "hideHardwareSpecs": false,
    "memoryGiB": 64,
    "name": "ml.m5.4xlarge",
    "vcpuNum": 16
   },
   {
    "_defaultOrder": 8,
    "_isFastLaunch": false,
    "category": "General purpose",
    "gpuNum": 0,
    "hideHardwareSpecs": false,
    "memoryGiB": 128,
    "name": "ml.m5.8xlarge",
    "vcpuNum": 32
   },
   {
    "_defaultOrder": 9,
    "_isFastLaunch": false,
    "category": "General purpose",
    "gpuNum": 0,
    "hideHardwareSpecs": false,
    "memoryGiB": 192,
    "name": "ml.m5.12xlarge",
    "vcpuNum": 48
   },
   {
    "_defaultOrder": 10,
    "_isFastLaunch": false,
    "category": "General purpose",
    "gpuNum": 0,
    "hideHardwareSpecs": false,
    "memoryGiB": 256,
    "name": "ml.m5.16xlarge",
    "vcpuNum": 64
   },
   {
    "_defaultOrder": 11,
    "_isFastLaunch": false,
    "category": "General purpose",
    "gpuNum": 0,
    "hideHardwareSpecs": false,
    "memoryGiB": 384,
    "name": "ml.m5.24xlarge",
    "vcpuNum": 96
   },
   {
    "_defaultOrder": 12,
    "_isFastLaunch": false,
    "category": "General purpose",
    "gpuNum": 0,
    "hideHardwareSpecs": false,
    "memoryGiB": 8,
    "name": "ml.m5d.large",
    "vcpuNum": 2
   },
   {
    "_defaultOrder": 13,
    "_isFastLaunch": false,
    "category": "General purpose",
    "gpuNum": 0,
    "hideHardwareSpecs": false,
    "memoryGiB": 16,
    "name": "ml.m5d.xlarge",
    "vcpuNum": 4
   },
   {
    "_defaultOrder": 14,
    "_isFastLaunch": false,
    "category": "General purpose",
    "gpuNum": 0,
    "hideHardwareSpecs": false,
    "memoryGiB": 32,
    "name": "ml.m5d.2xlarge",
    "vcpuNum": 8
   },
   {
    "_defaultOrder": 15,
    "_isFastLaunch": false,
    "category": "General purpose",
    "gpuNum": 0,
    "hideHardwareSpecs": false,
    "memoryGiB": 64,
    "name": "ml.m5d.4xlarge",
    "vcpuNum": 16
   },
   {
    "_defaultOrder": 16,
    "_isFastLaunch": false,
    "category": "General purpose",
    "gpuNum": 0,
    "hideHardwareSpecs": false,
    "memoryGiB": 128,
    "name": "ml.m5d.8xlarge",
    "vcpuNum": 32
   },
   {
    "_defaultOrder": 17,
    "_isFastLaunch": false,
    "category": "General purpose",
    "gpuNum": 0,
    "hideHardwareSpecs": false,
    "memoryGiB": 192,
    "name": "ml.m5d.12xlarge",
    "vcpuNum": 48
   },
   {
    "_defaultOrder": 18,
    "_isFastLaunch": false,
    "category": "General purpose",
    "gpuNum": 0,
    "hideHardwareSpecs": false,
    "memoryGiB": 256,
    "name": "ml.m5d.16xlarge",
    "vcpuNum": 64
   },
   {
    "_defaultOrder": 19,
    "_isFastLaunch": false,
    "category": "General purpose",
    "gpuNum": 0,
    "hideHardwareSpecs": false,
    "memoryGiB": 384,
    "name": "ml.m5d.24xlarge",
    "vcpuNum": 96
   },
   {
    "_defaultOrder": 20,
    "_isFastLaunch": false,
    "category": "General purpose",
    "gpuNum": 0,
    "hideHardwareSpecs": true,
    "memoryGiB": 0,
    "name": "ml.geospatial.interactive",
    "supportedImageNames": [
     "sagemaker-geospatial-v1-0"
    ],
    "vcpuNum": 0
   },
   {
    "_defaultOrder": 21,
    "_isFastLaunch": true,
    "category": "Compute optimized",
    "gpuNum": 0,
    "hideHardwareSpecs": false,
    "memoryGiB": 4,
    "name": "ml.c5.large",
    "vcpuNum": 2
   },
   {
    "_defaultOrder": 22,
    "_isFastLaunch": false,
    "category": "Compute optimized",
    "gpuNum": 0,
    "hideHardwareSpecs": false,
    "memoryGiB": 8,
    "name": "ml.c5.xlarge",
    "vcpuNum": 4
   },
   {
    "_defaultOrder": 23,
    "_isFastLaunch": false,
    "category": "Compute optimized",
    "gpuNum": 0,
    "hideHardwareSpecs": false,
    "memoryGiB": 16,
    "name": "ml.c5.2xlarge",
    "vcpuNum": 8
   },
   {
    "_defaultOrder": 24,
    "_isFastLaunch": false,
    "category": "Compute optimized",
    "gpuNum": 0,
    "hideHardwareSpecs": false,
    "memoryGiB": 32,
    "name": "ml.c5.4xlarge",
    "vcpuNum": 16
   },
   {
    "_defaultOrder": 25,
    "_isFastLaunch": false,
    "category": "Compute optimized",
    "gpuNum": 0,
    "hideHardwareSpecs": false,
    "memoryGiB": 72,
    "name": "ml.c5.9xlarge",
    "vcpuNum": 36
   },
   {
    "_defaultOrder": 26,
    "_isFastLaunch": false,
    "category": "Compute optimized",
    "gpuNum": 0,
    "hideHardwareSpecs": false,
    "memoryGiB": 96,
    "name": "ml.c5.12xlarge",
    "vcpuNum": 48
   },
   {
    "_defaultOrder": 27,
    "_isFastLaunch": false,
    "category": "Compute optimized",
    "gpuNum": 0,
    "hideHardwareSpecs": false,
    "memoryGiB": 144,
    "name": "ml.c5.18xlarge",
    "vcpuNum": 72
   },
   {
    "_defaultOrder": 28,
    "_isFastLaunch": false,
    "category": "Compute optimized",
    "gpuNum": 0,
    "hideHardwareSpecs": false,
    "memoryGiB": 192,
    "name": "ml.c5.24xlarge",
    "vcpuNum": 96
   },
   {
    "_defaultOrder": 29,
    "_isFastLaunch": true,
    "category": "Accelerated computing",
    "gpuNum": 1,
    "hideHardwareSpecs": false,
    "memoryGiB": 16,
    "name": "ml.g4dn.xlarge",
    "vcpuNum": 4
   },
   {
    "_defaultOrder": 30,
    "_isFastLaunch": false,
    "category": "Accelerated computing",
    "gpuNum": 1,
    "hideHardwareSpecs": false,
    "memoryGiB": 32,
    "name": "ml.g4dn.2xlarge",
    "vcpuNum": 8
   },
   {
    "_defaultOrder": 31,
    "_isFastLaunch": false,
    "category": "Accelerated computing",
    "gpuNum": 1,
    "hideHardwareSpecs": false,
    "memoryGiB": 64,
    "name": "ml.g4dn.4xlarge",
    "vcpuNum": 16
   },
   {
    "_defaultOrder": 32,
    "_isFastLaunch": false,
    "category": "Accelerated computing",
    "gpuNum": 1,
    "hideHardwareSpecs": false,
    "memoryGiB": 128,
    "name": "ml.g4dn.8xlarge",
    "vcpuNum": 32
   },
   {
    "_defaultOrder": 33,
    "_isFastLaunch": false,
    "category": "Accelerated computing",
    "gpuNum": 4,
    "hideHardwareSpecs": false,
    "memoryGiB": 192,
    "name": "ml.g4dn.12xlarge",
    "vcpuNum": 48
   },
   {
    "_defaultOrder": 34,
    "_isFastLaunch": false,
    "category": "Accelerated computing",
    "gpuNum": 1,
    "hideHardwareSpecs": false,
    "memoryGiB": 256,
    "name": "ml.g4dn.16xlarge",
    "vcpuNum": 64
   },
   {
    "_defaultOrder": 35,
    "_isFastLaunch": false,
    "category": "Accelerated computing",
    "gpuNum": 1,
    "hideHardwareSpecs": false,
    "memoryGiB": 61,
    "name": "ml.p3.2xlarge",
    "vcpuNum": 8
   },
   {
    "_defaultOrder": 36,
    "_isFastLaunch": false,
    "category": "Accelerated computing",
    "gpuNum": 4,
    "hideHardwareSpecs": false,
    "memoryGiB": 244,
    "name": "ml.p3.8xlarge",
    "vcpuNum": 32
   },
   {
    "_defaultOrder": 37,
    "_isFastLaunch": false,
    "category": "Accelerated computing",
    "gpuNum": 8,
    "hideHardwareSpecs": false,
    "memoryGiB": 488,
    "name": "ml.p3.16xlarge",
    "vcpuNum": 64
   },
   {
    "_defaultOrder": 38,
    "_isFastLaunch": false,
    "category": "Accelerated computing",
    "gpuNum": 8,
    "hideHardwareSpecs": false,
    "memoryGiB": 768,
    "name": "ml.p3dn.24xlarge",
    "vcpuNum": 96
   },
   {
    "_defaultOrder": 39,
    "_isFastLaunch": false,
    "category": "Memory Optimized",
    "gpuNum": 0,
    "hideHardwareSpecs": false,
    "memoryGiB": 16,
    "name": "ml.r5.large",
    "vcpuNum": 2
   },
   {
    "_defaultOrder": 40,
    "_isFastLaunch": false,
    "category": "Memory Optimized",
    "gpuNum": 0,
    "hideHardwareSpecs": false,
    "memoryGiB": 32,
    "name": "ml.r5.xlarge",
    "vcpuNum": 4
   },
   {
    "_defaultOrder": 41,
    "_isFastLaunch": false,
    "category": "Memory Optimized",
    "gpuNum": 0,
    "hideHardwareSpecs": false,
    "memoryGiB": 64,
    "name": "ml.r5.2xlarge",
    "vcpuNum": 8
   },
   {
    "_defaultOrder": 42,
    "_isFastLaunch": false,
    "category": "Memory Optimized",
    "gpuNum": 0,
    "hideHardwareSpecs": false,
    "memoryGiB": 128,
    "name": "ml.r5.4xlarge",
    "vcpuNum": 16
   },
   {
    "_defaultOrder": 43,
    "_isFastLaunch": false,
    "category": "Memory Optimized",
    "gpuNum": 0,
    "hideHardwareSpecs": false,
    "memoryGiB": 256,
    "name": "ml.r5.8xlarge",
    "vcpuNum": 32
   },
   {
    "_defaultOrder": 44,
    "_isFastLaunch": false,
    "category": "Memory Optimized",
    "gpuNum": 0,
    "hideHardwareSpecs": false,
    "memoryGiB": 384,
    "name": "ml.r5.12xlarge",
    "vcpuNum": 48
   },
   {
    "_defaultOrder": 45,
    "_isFastLaunch": false,
    "category": "Memory Optimized",
    "gpuNum": 0,
    "hideHardwareSpecs": false,
    "memoryGiB": 512,
    "name": "ml.r5.16xlarge",
    "vcpuNum": 64
   },
   {
    "_defaultOrder": 46,
    "_isFastLaunch": false,
    "category": "Memory Optimized",
    "gpuNum": 0,
    "hideHardwareSpecs": false,
    "memoryGiB": 768,
    "name": "ml.r5.24xlarge",
    "vcpuNum": 96
   },
   {
    "_defaultOrder": 47,
    "_isFastLaunch": false,
    "category": "Accelerated computing",
    "gpuNum": 1,
    "hideHardwareSpecs": false,
    "memoryGiB": 16,
    "name": "ml.g5.xlarge",
    "vcpuNum": 4
   },
   {
    "_defaultOrder": 48,
    "_isFastLaunch": false,
    "category": "Accelerated computing",
    "gpuNum": 1,
    "hideHardwareSpecs": false,
    "memoryGiB": 32,
    "name": "ml.g5.2xlarge",
    "vcpuNum": 8
   },
   {
    "_defaultOrder": 49,
    "_isFastLaunch": false,
    "category": "Accelerated computing",
    "gpuNum": 1,
    "hideHardwareSpecs": false,
    "memoryGiB": 64,
    "name": "ml.g5.4xlarge",
    "vcpuNum": 16
   },
   {
    "_defaultOrder": 50,
    "_isFastLaunch": false,
    "category": "Accelerated computing",
    "gpuNum": 1,
    "hideHardwareSpecs": false,
    "memoryGiB": 128,
    "name": "ml.g5.8xlarge",
    "vcpuNum": 32
   },
   {
    "_defaultOrder": 51,
    "_isFastLaunch": false,
    "category": "Accelerated computing",
    "gpuNum": 1,
    "hideHardwareSpecs": false,
    "memoryGiB": 256,
    "name": "ml.g5.16xlarge",
    "vcpuNum": 64
   },
   {
    "_defaultOrder": 52,
    "_isFastLaunch": false,
    "category": "Accelerated computing",
    "gpuNum": 4,
    "hideHardwareSpecs": false,
    "memoryGiB": 192,
    "name": "ml.g5.12xlarge",
    "vcpuNum": 48
   },
   {
    "_defaultOrder": 53,
    "_isFastLaunch": false,
    "category": "Accelerated computing",
    "gpuNum": 4,
    "hideHardwareSpecs": false,
    "memoryGiB": 384,
    "name": "ml.g5.24xlarge",
    "vcpuNum": 96
   },
   {
    "_defaultOrder": 54,
    "_isFastLaunch": false,
    "category": "Accelerated computing",
    "gpuNum": 8,
    "hideHardwareSpecs": false,
    "memoryGiB": 768,
    "name": "ml.g5.48xlarge",
    "vcpuNum": 192
   }
  ],
  "instance_type": "ml.t3.medium",
  "kernelspec": {
   "display_name": "pytorch_p310",
   "language": "python",
   "name": "python3"
  },
  "language_info": {
   "codemirror_mode": {
    "name": "ipython",
    "version": 3
   },
   "file_extension": ".py",
   "mimetype": "text/x-python",
   "name": "python",
   "nbconvert_exporter": "python",
   "pygments_lexer": "ipython3",
   "version": "3.10.14"
  }
 },
 "nbformat": 4,
 "nbformat_minor": 4
}
